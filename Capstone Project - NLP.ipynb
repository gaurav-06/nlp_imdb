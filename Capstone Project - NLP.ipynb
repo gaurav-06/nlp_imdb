{
 "cells": [
  {
   "cell_type": "markdown",
   "metadata": {},
   "source": [
    "# Capstone Project NLP"
   ]
  },
  {
   "cell_type": "markdown",
   "metadata": {},
   "source": [
    "## Phase 1 Cleaning"
   ]
  },
  {
   "cell_type": "markdown",
   "metadata": {},
   "source": [
    "### Reading TRAIN and TEST DATA"
   ]
  },
  {
   "cell_type": "code",
   "execution_count": 1,
   "metadata": {},
   "outputs": [],
   "source": [
    "# Reading TRAIN DATA - Positive\n",
    "\n",
    "import os\n",
    "import pandas as pd\n",
    "import numpy as np\n",
    "\n",
    "path = 'C:\\\\Users\\\\Gaurav\\\\Desktop\\\\Digital Vidya\\\\Capstone Project 1 Natural Language Processing\\\\aclImdb\\\\train\\pos\\\\'\n",
    "\n",
    "train_pos_data = []\n",
    "files = [path+'/'+f for f in os.listdir(path) if os.path.isfile(path+'/'+f)]\n",
    "\n",
    "for f in files:\n",
    "    with open (f, \"r\",encoding=\"iso-8859-1\") as myfile:\n",
    "        train_pos_data.append(myfile.read())"
   ]
  },
  {
   "cell_type": "code",
   "execution_count": 2,
   "metadata": {},
   "outputs": [],
   "source": [
    "# Reading TRAIN DATA - Negative\n",
    "\n",
    "path = 'C:\\\\Users\\\\Gaurav\\\\Desktop\\\\Digital Vidya\\\\Capstone Project 1 Natural Language Processing\\\\aclImdb\\\\train\\\\neg\\\\'\n",
    "\n",
    "train_neg_data = []\n",
    "files = [path+'/'+f for f in os.listdir(path) if os.path.isfile(path+'/'+f)]\n",
    "\n",
    "for f in files:\n",
    "    with open (f, \"r\",encoding=\"iso-8859-1\") as myfile:\n",
    "        train_neg_data.append(myfile.read())"
   ]
  },
  {
   "cell_type": "code",
   "execution_count": 11,
   "metadata": {},
   "outputs": [
    {
     "data": {
      "text/plain": [
       "(12500, 2)"
      ]
     },
     "execution_count": 11,
     "metadata": {},
     "output_type": "execute_result"
    }
   ],
   "source": [
    "# TRAIN DATA - Positive DataFrame\n",
    "train_df_p = pd.DataFrame(train_pos_data, columns=['review'])\n",
    "train_df_p['label'] = 'positive'\n",
    "train_df_p.head()\n",
    "train_df_p.shape"
   ]
  },
  {
   "cell_type": "code",
   "execution_count": 12,
   "metadata": {},
   "outputs": [
    {
     "data": {
      "text/plain": [
       "(12500, 2)"
      ]
     },
     "execution_count": 12,
     "metadata": {},
     "output_type": "execute_result"
    }
   ],
   "source": [
    "# TRAIN DATA - Negative DataFrame\n",
    "\n",
    "train_df_n = pd.DataFrame(train_neg_data, columns=['review'])\n",
    "train_df_n.head()\n",
    "train_df_n['label'] = 'negative'\n",
    "train_df_n.head()\n",
    "train_df_n.shape"
   ]
  },
  {
   "cell_type": "code",
   "execution_count": 16,
   "metadata": {},
   "outputs": [
    {
     "data": {
      "text/plain": [
       "(25000, 2)"
      ]
     },
     "execution_count": 16,
     "metadata": {},
     "output_type": "execute_result"
    }
   ],
   "source": [
    "# Concatnating Positive and Negative Train Data\n",
    "\n",
    "train_df = pd.concat([train_df_p, train_df_n])\n",
    "train_df.shape"
   ]
  },
  {
   "cell_type": "code",
   "execution_count": 18,
   "metadata": {},
   "outputs": [],
   "source": [
    "# Writing Train DataFrame to a CSV file\n",
    "\n",
    "train_df.to_csv('Train_Data.csv')  "
   ]
  },
  {
   "cell_type": "code",
   "execution_count": 27,
   "metadata": {},
   "outputs": [],
   "source": [
    "# Reading TEST DATA - pos\n",
    "\n",
    "path = 'C:\\\\Users\\\\Gaurav\\\\Desktop\\\\Digital Vidya\\\\Capstone Project 1 Natural Language Processing\\\\aclImdb\\\\test\\pos\\\\'\n",
    "\n",
    "test_pos_data = []\n",
    "files = [path+'/'+f for f in os.listdir(path) if os.path.isfile(path+'/'+f)]\n",
    "\n",
    "for f in files:\n",
    "    with open (f, \"r\",encoding=\"iso-8859-1\") as myfile:\n",
    "        test_pos_data.append(myfile.read())"
   ]
  },
  {
   "cell_type": "code",
   "execution_count": 28,
   "metadata": {},
   "outputs": [],
   "source": [
    "# Reading TEST DATA - neg\n",
    "\n",
    "path = 'C:\\\\Users\\\\Gaurav\\\\Desktop\\\\Digital Vidya\\\\Capstone Project 1 Natural Language Processing\\\\aclImdb\\\\test\\\\neg\\\\'\n",
    "\n",
    "test_neg_data = []\n",
    "files = [path+'/'+f for f in os.listdir(path) if os.path.isfile(path+'/'+f)]\n",
    "\n",
    "for f in files:\n",
    "    with open (f, \"r\",encoding=\"iso-8859-1\") as myfile:\n",
    "        test_neg_data.append(myfile.read())"
   ]
  },
  {
   "cell_type": "code",
   "execution_count": 29,
   "metadata": {},
   "outputs": [
    {
     "data": {
      "text/plain": [
       "(25000, 2)"
      ]
     },
     "execution_count": 29,
     "metadata": {},
     "output_type": "execute_result"
    }
   ],
   "source": [
    "# Test DATA - Positive DataFrame\n",
    "test_df_p = pd.DataFrame(test_pos_data, columns=['review'])\n",
    "test_df_p['label'] = 'positive'\n",
    "test_df_p.shape\n",
    "\n",
    "# Test DATA - Negative DataFrame\n",
    "\n",
    "test_df_n = pd.DataFrame(test_neg_data, columns=['review'])\n",
    "test_df_n.head()\n",
    "test_df_n['label'] = 'negative'\n",
    "test_df_n.head()\n",
    "test_df_n.shape\n",
    "\n",
    "# Concatnating Positive and Negative Test Data\n",
    "\n",
    "test_df = pd.concat([test_df_p, test_df_n])\n",
    "test_df.shape"
   ]
  },
  {
   "cell_type": "code",
   "execution_count": 30,
   "metadata": {},
   "outputs": [],
   "source": [
    "# Writing Test DataFrame to a CSV file\n",
    "\n",
    "test_df.to_csv('Test_Data.csv')"
   ]
  },
  {
   "cell_type": "markdown",
   "metadata": {},
   "source": [
    "### Removing HTML tags and Punctuations"
   ]
  },
  {
   "cell_type": "code",
   "execution_count": 31,
   "metadata": {},
   "outputs": [
    {
     "data": {
      "text/html": [
       "<div>\n",
       "<style scoped>\n",
       "    .dataframe tbody tr th:only-of-type {\n",
       "        vertical-align: middle;\n",
       "    }\n",
       "\n",
       "    .dataframe tbody tr th {\n",
       "        vertical-align: top;\n",
       "    }\n",
       "\n",
       "    .dataframe thead th {\n",
       "        text-align: right;\n",
       "    }\n",
       "</style>\n",
       "<table border=\"1\" class=\"dataframe\">\n",
       "  <thead>\n",
       "    <tr style=\"text-align: right;\">\n",
       "      <th></th>\n",
       "      <th>review</th>\n",
       "      <th>label</th>\n",
       "    </tr>\n",
       "  </thead>\n",
       "  <tbody>\n",
       "    <tr>\n",
       "      <th>0</th>\n",
       "      <td>Bromwell High is a cartoon comedy. It ran at t...</td>\n",
       "      <td>positive</td>\n",
       "    </tr>\n",
       "    <tr>\n",
       "      <th>1</th>\n",
       "      <td>Homelessness (or Houselessness as George Carli...</td>\n",
       "      <td>positive</td>\n",
       "    </tr>\n",
       "    <tr>\n",
       "      <th>2</th>\n",
       "      <td>Brilliant over-acting by Lesley Ann Warren. Be...</td>\n",
       "      <td>positive</td>\n",
       "    </tr>\n",
       "    <tr>\n",
       "      <th>3</th>\n",
       "      <td>This is easily the most underrated film inn th...</td>\n",
       "      <td>positive</td>\n",
       "    </tr>\n",
       "    <tr>\n",
       "      <th>4</th>\n",
       "      <td>This is not the typical Mel Brooks film. It wa...</td>\n",
       "      <td>positive</td>\n",
       "    </tr>\n",
       "  </tbody>\n",
       "</table>\n",
       "</div>"
      ],
      "text/plain": [
       "                                              review     label\n",
       "0  Bromwell High is a cartoon comedy. It ran at t...  positive\n",
       "1  Homelessness (or Houselessness as George Carli...  positive\n",
       "2  Brilliant over-acting by Lesley Ann Warren. Be...  positive\n",
       "3  This is easily the most underrated film inn th...  positive\n",
       "4  This is not the typical Mel Brooks film. It wa...  positive"
      ]
     },
     "execution_count": 31,
     "metadata": {},
     "output_type": "execute_result"
    }
   ],
   "source": [
    "import string \n",
    "import re   # regular expressions library\n",
    "\n",
    "tags = re.compile('<.*?>')\n",
    "tags\n",
    "\n",
    "# Train Data\n",
    "\n",
    "train_df['review'] = train_df['review'].str.replace(tags, ' ') # Removing HTML tags\n",
    "train_df.head()"
   ]
  },
  {
   "cell_type": "code",
   "execution_count": 32,
   "metadata": {},
   "outputs": [
    {
     "data": {
      "text/html": [
       "<div>\n",
       "<style scoped>\n",
       "    .dataframe tbody tr th:only-of-type {\n",
       "        vertical-align: middle;\n",
       "    }\n",
       "\n",
       "    .dataframe tbody tr th {\n",
       "        vertical-align: top;\n",
       "    }\n",
       "\n",
       "    .dataframe thead th {\n",
       "        text-align: right;\n",
       "    }\n",
       "</style>\n",
       "<table border=\"1\" class=\"dataframe\">\n",
       "  <thead>\n",
       "    <tr style=\"text-align: right;\">\n",
       "      <th></th>\n",
       "      <th>review</th>\n",
       "      <th>label</th>\n",
       "    </tr>\n",
       "  </thead>\n",
       "  <tbody>\n",
       "    <tr>\n",
       "      <th>0</th>\n",
       "      <td>Bromwell High is a cartoon comedy It ran at th...</td>\n",
       "      <td>positive</td>\n",
       "    </tr>\n",
       "    <tr>\n",
       "      <th>1</th>\n",
       "      <td>Homelessness or Houselessness as George Carlin...</td>\n",
       "      <td>positive</td>\n",
       "    </tr>\n",
       "    <tr>\n",
       "      <th>2</th>\n",
       "      <td>Brilliant overacting by Lesley Ann Warren Best...</td>\n",
       "      <td>positive</td>\n",
       "    </tr>\n",
       "    <tr>\n",
       "      <th>3</th>\n",
       "      <td>This is easily the most underrated film inn th...</td>\n",
       "      <td>positive</td>\n",
       "    </tr>\n",
       "    <tr>\n",
       "      <th>4</th>\n",
       "      <td>This is not the typical Mel Brooks film It was...</td>\n",
       "      <td>positive</td>\n",
       "    </tr>\n",
       "  </tbody>\n",
       "</table>\n",
       "</div>"
      ],
      "text/plain": [
       "                                              review     label\n",
       "0  Bromwell High is a cartoon comedy It ran at th...  positive\n",
       "1  Homelessness or Houselessness as George Carlin...  positive\n",
       "2  Brilliant overacting by Lesley Ann Warren Best...  positive\n",
       "3  This is easily the most underrated film inn th...  positive\n",
       "4  This is not the typical Mel Brooks film It was...  positive"
      ]
     },
     "execution_count": 32,
     "metadata": {},
     "output_type": "execute_result"
    }
   ],
   "source": [
    "punctuation = string.punctuation\n",
    "punctuation\n",
    "\n",
    "# Train Data\n",
    "\n",
    "train_df['review']  = train_df['review'].str.replace('[{}]'.format(string.punctuation), '')# Removing punctuation\n",
    "train_df.head()\n"
   ]
  },
  {
   "cell_type": "code",
   "execution_count": 33,
   "metadata": {},
   "outputs": [],
   "source": [
    "# Train Data After Removing HTML Tags and Punctuation\n",
    "train_df.to_csv('TrainData_AfterRemovingHTMLandPunc.csv')"
   ]
  },
  {
   "cell_type": "code",
   "execution_count": 34,
   "metadata": {},
   "outputs": [],
   "source": [
    "# TEST Data\n",
    "test_df['review'] = test_df['review'].str.replace(tags, ' ') # Removing HTML tags\n"
   ]
  },
  {
   "cell_type": "code",
   "execution_count": 35,
   "metadata": {},
   "outputs": [],
   "source": [
    "test_df['review'] = test_df['review'].str.replace('[{}]'.format(string.punctuation), '')# Removing punctuation"
   ]
  },
  {
   "cell_type": "code",
   "execution_count": 36,
   "metadata": {},
   "outputs": [],
   "source": [
    "# Train Data After Removing HTML Tags and Punctuation\n",
    "test_df.to_csv('TestData_AfterRemovingHTMLandPunc.csv')"
   ]
  },
  {
   "cell_type": "markdown",
   "metadata": {},
   "source": [
    "### Removing Stopwords"
   ]
  },
  {
   "cell_type": "code",
   "execution_count": 15,
   "metadata": {},
   "outputs": [],
   "source": [
    "import nltk\n",
    "from nltk.corpus import stopwords\n"
   ]
  },
  {
   "cell_type": "code",
   "execution_count": 71,
   "metadata": {},
   "outputs": [
    {
     "data": {
      "text/html": [
       "<div>\n",
       "<style scoped>\n",
       "    .dataframe tbody tr th:only-of-type {\n",
       "        vertical-align: middle;\n",
       "    }\n",
       "\n",
       "    .dataframe tbody tr th {\n",
       "        vertical-align: top;\n",
       "    }\n",
       "\n",
       "    .dataframe thead th {\n",
       "        text-align: right;\n",
       "    }\n",
       "</style>\n",
       "<table border=\"1\" class=\"dataframe\">\n",
       "  <thead>\n",
       "    <tr style=\"text-align: right;\">\n",
       "      <th></th>\n",
       "      <th>Unnamed: 0</th>\n",
       "      <th>review</th>\n",
       "      <th>label</th>\n",
       "    </tr>\n",
       "  </thead>\n",
       "  <tbody>\n",
       "    <tr>\n",
       "      <th>0</th>\n",
       "      <td>0</td>\n",
       "      <td>bromwell high is a cartoon comedy it ran at th...</td>\n",
       "      <td>positive</td>\n",
       "    </tr>\n",
       "    <tr>\n",
       "      <th>1</th>\n",
       "      <td>1</td>\n",
       "      <td>homelessness or houselessness as george carlin...</td>\n",
       "      <td>positive</td>\n",
       "    </tr>\n",
       "    <tr>\n",
       "      <th>2</th>\n",
       "      <td>2</td>\n",
       "      <td>brilliant overacting by lesley ann warren best...</td>\n",
       "      <td>positive</td>\n",
       "    </tr>\n",
       "    <tr>\n",
       "      <th>3</th>\n",
       "      <td>3</td>\n",
       "      <td>this is easily the most underrated film inn th...</td>\n",
       "      <td>positive</td>\n",
       "    </tr>\n",
       "    <tr>\n",
       "      <th>4</th>\n",
       "      <td>4</td>\n",
       "      <td>this is not the typical mel brooks film it was...</td>\n",
       "      <td>positive</td>\n",
       "    </tr>\n",
       "  </tbody>\n",
       "</table>\n",
       "</div>"
      ],
      "text/plain": [
       "   Unnamed: 0                                             review     label\n",
       "0           0  bromwell high is a cartoon comedy it ran at th...  positive\n",
       "1           1  homelessness or houselessness as george carlin...  positive\n",
       "2           2  brilliant overacting by lesley ann warren best...  positive\n",
       "3           3  this is easily the most underrated film inn th...  positive\n",
       "4           4  this is not the typical mel brooks film it was...  positive"
      ]
     },
     "execution_count": 71,
     "metadata": {},
     "output_type": "execute_result"
    }
   ],
   "source": [
    "# read dataframe\n",
    "import pandas as pd\n",
    "train_df = pd.read_csv(\"C:/Users/Gaurav/Desktop/Digital Vidya/Capstone Project 1 Natural Language Processing/TrainData_AfterRemovingHTMLandPunc.csv\", encoding='ISO-8859-1', engine='c')\n",
    "train_df['review'] = train_df['review'].str.lower()"
   ]
  },
  {
   "cell_type": "code",
   "execution_count": 45,
   "metadata": {},
   "outputs": [],
   "source": [
    "from nltk.tokenize import word_tokenize\n",
    " \n",
    "clean_review =[]\n",
    " \n",
    "Stopwords = stopwords.words('english')\n",
    " \n",
    "for f in train_df['review']:\n",
    "    word_tokens = word_tokenize(f)\n",
    "    clean = [w for w in word_tokens if w not in Stopwords]\n",
    "    f_new = \" \".join(clean)\n",
    "    clean_review.append(f_new)\n",
    " \n",
    "\n",
    "train_df['review'] = clean_review"
   ]
  },
  {
   "cell_type": "code",
   "execution_count": 46,
   "metadata": {},
   "outputs": [
    {
     "data": {
      "text/html": [
       "<div>\n",
       "<style scoped>\n",
       "    .dataframe tbody tr th:only-of-type {\n",
       "        vertical-align: middle;\n",
       "    }\n",
       "\n",
       "    .dataframe tbody tr th {\n",
       "        vertical-align: top;\n",
       "    }\n",
       "\n",
       "    .dataframe thead th {\n",
       "        text-align: right;\n",
       "    }\n",
       "</style>\n",
       "<table border=\"1\" class=\"dataframe\">\n",
       "  <thead>\n",
       "    <tr style=\"text-align: right;\">\n",
       "      <th></th>\n",
       "      <th>Unnamed: 0</th>\n",
       "      <th>review</th>\n",
       "      <th>label</th>\n",
       "    </tr>\n",
       "  </thead>\n",
       "  <tbody>\n",
       "    <tr>\n",
       "      <th>0</th>\n",
       "      <td>0</td>\n",
       "      <td>bromwell high cartoon comedy ran time programs...</td>\n",
       "      <td>positive</td>\n",
       "    </tr>\n",
       "    <tr>\n",
       "      <th>1</th>\n",
       "      <td>1</td>\n",
       "      <td>homelessness houselessness george carlin state...</td>\n",
       "      <td>positive</td>\n",
       "    </tr>\n",
       "    <tr>\n",
       "      <th>2</th>\n",
       "      <td>2</td>\n",
       "      <td>brilliant overacting lesley ann warren best dr...</td>\n",
       "      <td>positive</td>\n",
       "    </tr>\n",
       "    <tr>\n",
       "      <th>3</th>\n",
       "      <td>3</td>\n",
       "      <td>easily underrated film inn brooks cannon sure ...</td>\n",
       "      <td>positive</td>\n",
       "    </tr>\n",
       "    <tr>\n",
       "      <th>4</th>\n",
       "      <td>4</td>\n",
       "      <td>typical mel brooks film much less slapstick mo...</td>\n",
       "      <td>positive</td>\n",
       "    </tr>\n",
       "  </tbody>\n",
       "</table>\n",
       "</div>"
      ],
      "text/plain": [
       "   Unnamed: 0                                             review     label\n",
       "0           0  bromwell high cartoon comedy ran time programs...  positive\n",
       "1           1  homelessness houselessness george carlin state...  positive\n",
       "2           2  brilliant overacting lesley ann warren best dr...  positive\n",
       "3           3  easily underrated film inn brooks cannon sure ...  positive\n",
       "4           4  typical mel brooks film much less slapstick mo...  positive"
      ]
     },
     "execution_count": 46,
     "metadata": {},
     "output_type": "execute_result"
    }
   ],
   "source": [
    "train_df.head()"
   ]
  },
  {
   "cell_type": "code",
   "execution_count": 47,
   "metadata": {},
   "outputs": [],
   "source": [
    "train_df.to_csv('Train_df_AfterRemoving_Stopwords.csv')"
   ]
  },
  {
   "cell_type": "code",
   "execution_count": 70,
   "metadata": {},
   "outputs": [
    {
     "data": {
      "text/html": [
       "<div>\n",
       "<style scoped>\n",
       "    .dataframe tbody tr th:only-of-type {\n",
       "        vertical-align: middle;\n",
       "    }\n",
       "\n",
       "    .dataframe tbody tr th {\n",
       "        vertical-align: top;\n",
       "    }\n",
       "\n",
       "    .dataframe thead th {\n",
       "        text-align: right;\n",
       "    }\n",
       "</style>\n",
       "<table border=\"1\" class=\"dataframe\">\n",
       "  <thead>\n",
       "    <tr style=\"text-align: right;\">\n",
       "      <th></th>\n",
       "      <th>Unnamed: 0</th>\n",
       "      <th>review</th>\n",
       "      <th>label</th>\n",
       "    </tr>\n",
       "  </thead>\n",
       "  <tbody>\n",
       "    <tr>\n",
       "      <th>0</th>\n",
       "      <td>0</td>\n",
       "      <td>i went and saw this movie last night after bei...</td>\n",
       "      <td>positive</td>\n",
       "    </tr>\n",
       "    <tr>\n",
       "      <th>1</th>\n",
       "      <td>1</td>\n",
       "      <td>actor turned director bill paxton follows up h...</td>\n",
       "      <td>positive</td>\n",
       "    </tr>\n",
       "    <tr>\n",
       "      <th>2</th>\n",
       "      <td>2</td>\n",
       "      <td>as a recreational golfer with some knowledge o...</td>\n",
       "      <td>positive</td>\n",
       "    </tr>\n",
       "    <tr>\n",
       "      <th>3</th>\n",
       "      <td>3</td>\n",
       "      <td>i saw this film in a sneak preview and it is d...</td>\n",
       "      <td>positive</td>\n",
       "    </tr>\n",
       "    <tr>\n",
       "      <th>4</th>\n",
       "      <td>4</td>\n",
       "      <td>bill paxton has taken the true story of the 19...</td>\n",
       "      <td>positive</td>\n",
       "    </tr>\n",
       "  </tbody>\n",
       "</table>\n",
       "</div>"
      ],
      "text/plain": [
       "   Unnamed: 0                                             review     label\n",
       "0           0  i went and saw this movie last night after bei...  positive\n",
       "1           1  actor turned director bill paxton follows up h...  positive\n",
       "2           2  as a recreational golfer with some knowledge o...  positive\n",
       "3           3  i saw this film in a sneak preview and it is d...  positive\n",
       "4           4  bill paxton has taken the true story of the 19...  positive"
      ]
     },
     "execution_count": 70,
     "metadata": {},
     "output_type": "execute_result"
    }
   ],
   "source": [
    "# read dataframe\n",
    "test_df = pd.read_csv(\"C:/Users/Gaurav/Desktop/Digital Vidya/Capstone Project 1 Natural Language Processing/TestData_AfterRemovingHTMLandPunc.csv\", encoding='ISO-8859-1', engine='c')\n",
    "test_df['review'] = test_df['review'].str.lower()\n",
    "test_df.head()"
   ]
  },
  {
   "cell_type": "code",
   "execution_count": 50,
   "metadata": {},
   "outputs": [],
   "source": [
    "clean_review =[]\n",
    " \n",
    "Stopwords = stopwords.words('english')\n",
    " \n",
    "for f in test_df['review']:\n",
    "    word_tokens = word_tokenize(f)\n",
    "    clean = [w for w in word_tokens if w not in Stopwords]\n",
    "    f_new = \" \".join(clean)\n",
    "    clean_review.append(f_new)\n",
    " \n",
    "\n",
    "test_df['review'] = clean_review"
   ]
  },
  {
   "cell_type": "code",
   "execution_count": 51,
   "metadata": {},
   "outputs": [
    {
     "data": {
      "text/html": [
       "<div>\n",
       "<style scoped>\n",
       "    .dataframe tbody tr th:only-of-type {\n",
       "        vertical-align: middle;\n",
       "    }\n",
       "\n",
       "    .dataframe tbody tr th {\n",
       "        vertical-align: top;\n",
       "    }\n",
       "\n",
       "    .dataframe thead th {\n",
       "        text-align: right;\n",
       "    }\n",
       "</style>\n",
       "<table border=\"1\" class=\"dataframe\">\n",
       "  <thead>\n",
       "    <tr style=\"text-align: right;\">\n",
       "      <th></th>\n",
       "      <th>Unnamed: 0</th>\n",
       "      <th>review</th>\n",
       "      <th>label</th>\n",
       "    </tr>\n",
       "  </thead>\n",
       "  <tbody>\n",
       "    <tr>\n",
       "      <th>0</th>\n",
       "      <td>0</td>\n",
       "      <td>went saw movie last night coaxed friends mine ...</td>\n",
       "      <td>positive</td>\n",
       "    </tr>\n",
       "    <tr>\n",
       "      <th>1</th>\n",
       "      <td>1</td>\n",
       "      <td>actor turned director bill paxton follows prom...</td>\n",
       "      <td>positive</td>\n",
       "    </tr>\n",
       "    <tr>\n",
       "      <th>2</th>\n",
       "      <td>2</td>\n",
       "      <td>recreational golfer knowledge sports history p...</td>\n",
       "      <td>positive</td>\n",
       "    </tr>\n",
       "    <tr>\n",
       "      <th>3</th>\n",
       "      <td>3</td>\n",
       "      <td>saw film sneak preview delightful cinematograp...</td>\n",
       "      <td>positive</td>\n",
       "    </tr>\n",
       "    <tr>\n",
       "      <th>4</th>\n",
       "      <td>4</td>\n",
       "      <td>bill paxton taken true story 1913 us golf open...</td>\n",
       "      <td>positive</td>\n",
       "    </tr>\n",
       "  </tbody>\n",
       "</table>\n",
       "</div>"
      ],
      "text/plain": [
       "   Unnamed: 0                                             review     label\n",
       "0           0  went saw movie last night coaxed friends mine ...  positive\n",
       "1           1  actor turned director bill paxton follows prom...  positive\n",
       "2           2  recreational golfer knowledge sports history p...  positive\n",
       "3           3  saw film sneak preview delightful cinematograp...  positive\n",
       "4           4  bill paxton taken true story 1913 us golf open...  positive"
      ]
     },
     "execution_count": 51,
     "metadata": {},
     "output_type": "execute_result"
    }
   ],
   "source": [
    "test_df.head()"
   ]
  },
  {
   "cell_type": "code",
   "execution_count": 52,
   "metadata": {},
   "outputs": [],
   "source": [
    "test_df.to_csv('Test_df_AfterRemoving_Stopwords.csv')"
   ]
  },
  {
   "cell_type": "markdown",
   "metadata": {},
   "source": [
    "### Removing meaningless words/ Neutral (Noise Words)\n",
    "#### Finding most common words which add noise to the data and not important for our analysis."
   ]
  },
  {
   "cell_type": "code",
   "execution_count": 204,
   "metadata": {},
   "outputs": [
    {
     "data": {
      "text/plain": [
       "[('movie', 42663),\n",
       " ('film', 38252),\n",
       " ('one', 25723),\n",
       " ('like', 19678),\n",
       " ('good', 14710),\n",
       " ('even', 12508),\n",
       " ('would', 12141),\n",
       " ('time', 12123),\n",
       " ('really', 11692),\n",
       " ('story', 11670)]"
      ]
     },
     "execution_count": 204,
     "metadata": {},
     "output_type": "execute_result"
    }
   ],
   "source": [
    "from collections import Counter\n",
    "\n",
    "train_df = pd.read_csv(\"C:/Users/Gaurav/Desktop/Digital Vidya/Capstone Project 1 Natural Language Processing/Train_df_AfterRemoving_Stopwords.csv\", encoding='ISO-8859-1', engine='c')\n",
    "\n",
    "Counter(\" \".join(train_df['review']).split()).most_common(10)   #Finding Most Meaningless Words From Train Data"
   ]
  },
  {
   "cell_type": "code",
   "execution_count": 205,
   "metadata": {},
   "outputs": [],
   "source": [
    "# Removing Meaningless Words from Train Data\n",
    "from nltk.tokenize import word_tokenize\n",
    "Meaningless_Words = ['movie', 'film', 'movies', 'films', 'cinema', 'one', 'get', 'would', 'made', 'make', 'dont', 'time', 'story', 'characters', 'character', 'see', 'life', 'show', 'think', 'scene', 'people', 'also', 'even', 'first', 'many', 'well', 'way', 'play','thing','two','real', 'still','seem', 'little', 'end','work','watch', 'always', 'know', 'take','find', 'though', 'plot', 'say', 'much', 'seen', 'never', 'could', 'much', 'years', 'part', 'go', 'makes', 'scenes', 'ever', 'back', 'come', 'performance', 'may', 'fact', 'us', 'something', 'give', 'didnt','look', 'saw','shows','another','cast', 'every', 'watching', 'going', 'actually','things', 'man', 'want', 'title', 'entire', 'budget', 'school', 'become', 'top', 'case', 'person', 'face', 'piece','camera', 'keep', 'video', 'gives', 'let', 'start', 'remember', 'came', 'perhaps', 'rest','use', 'along', 'production', 'line', 'tell', 'next', 'home', 'try', 'need', 'short', 'else','used', 'takes', 'said', 'later', 'someone', 'goes', 'trying', 'course', 'comees', 'yet', 'turn','wont', 'wants', 'went', 'couldnt', 'save', 'group', 'alone', 'wouldnt', 'anyway', 'moment', 'took','role', 'etc', 'says', 'hand', 'late', 'directed' , 'car', 'soon', 'town', 'sometimes', 'able', 'called', 'talking', 'cut', 'taking', 'finds', 'started', 'today', 'across', 'whose', 'taken', 'lets', 'looked', 'including', 'word', 'words', 'arent', 'events', 'room', 'im', 'doesnt', 'director', 'thats', 'nothing', 'since', 'hes', 'anything', 'rather', 'away', 'last','anyone', 'played', 'looks', 'wasnt', 'put', 'comes', 'became', 'youve', 'move', 'follow', 'learn','whos', 'form', 'means', 'comments', 'using', 'tells', 'call', 'kid', 'police', 'theyre', 'youll', 'days','1', '2', '3', '10','example', 'id', 'becomes', 'father', 'mother', 'completely', 'seeing', 'three','job', 'place', 'hair', '15', 'store', 'werent', 'company', 'state', '8', 'science', 'former', 'water','island', 'list', 'sees','telling', 'box', 'air', 'meant', 'parts', 'gave', 'seemed', 'based', 'mr','several']\n",
    "\n",
    "clean_review =[]\n",
    " \n",
    "for f in train_df['review']:\n",
    "    word_tokens = word_tokenize(f)\n",
    "    clean = [w for w in word_tokens if w not in Meaningless_Words]\n",
    "    f_new = \" \".join(clean)\n",
    "    clean_review.append(f_new)\n",
    " \n",
    "train_df['review'] = clean_review"
   ]
  },
  {
   "cell_type": "code",
   "execution_count": 206,
   "metadata": {},
   "outputs": [],
   "source": [
    "train_df.to_csv('Train_Data_After_Removing_MeaninglessWords.csv')"
   ]
  },
  {
   "cell_type": "code",
   "execution_count": 208,
   "metadata": {},
   "outputs": [
    {
     "data": {
      "text/plain": [
       "[('movie', 42550),\n",
       " ('film', 37768),\n",
       " ('one', 25748),\n",
       " ('like', 19384),\n",
       " ('good', 14201),\n",
       " ('even', 12074),\n",
       " ('would', 11895),\n",
       " ('time', 11830),\n",
       " ('see', 11363),\n",
       " ('really', 11318)]"
      ]
     },
     "execution_count": 208,
     "metadata": {},
     "output_type": "execute_result"
    }
   ],
   "source": [
    "test_df = pd.read_csv(\"C:/Users/Gaurav/Desktop/Digital Vidya/Capstone Project 1 Natural Language Processing/Test_df_AfterRemoving_Stopwords.csv\", encoding='ISO-8859-1', engine='c')\n",
    "\n",
    "Counter(\" \".join(test_df['review']).split()).most_common(10)   #Finding Most Meaningless Words From Test Data"
   ]
  },
  {
   "cell_type": "code",
   "execution_count": 209,
   "metadata": {},
   "outputs": [],
   "source": [
    "clean_review1 =[]\n",
    " \n",
    "for f in test_df['review']:\n",
    "    word_tokens = word_tokenize(f)\n",
    "    clean = [w for w in word_tokens if w not in Meaningless_Words]\n",
    "    f_new = \" \".join(clean)\n",
    "    clean_review1.append(f_new)\n",
    " \n",
    "test_df['review'] = clean_review1"
   ]
  },
  {
   "cell_type": "code",
   "execution_count": 210,
   "metadata": {},
   "outputs": [],
   "source": [
    "test_df.to_csv('Test_Data_After_Removing_MeaninglessWords.csv')"
   ]
  },
  {
   "cell_type": "markdown",
   "metadata": {},
   "source": [
    "### Applying Stemming and Lemmatization"
   ]
  },
  {
   "cell_type": "code",
   "execution_count": 211,
   "metadata": {},
   "outputs": [],
   "source": [
    "# Applying Stemming and Lemmatization on Train Data\n",
    "\n",
    "from nltk.stem import PorterStemmer\n",
    "ps = PorterStemmer()\n",
    "\n",
    "train_df = pd.read_csv(\"C:/Users/Gaurav/Desktop/Digital Vidya/Capstone Project 1 Natural Language Processing/Train_Data_After_Removing_MeaninglessWords.csv\", encoding='ISO-8859-1', engine='c')\n",
    "\n",
    "train_df['review'] = train_df['review'].str.split()\n",
    "train_df['review'] = train_df['review'].apply(lambda x: ' '.join([ps.stem(word) for word in x])) "
   ]
  },
  {
   "cell_type": "code",
   "execution_count": 212,
   "metadata": {},
   "outputs": [
    {
     "data": {
      "text/html": [
       "<div>\n",
       "<style scoped>\n",
       "    .dataframe tbody tr th:only-of-type {\n",
       "        vertical-align: middle;\n",
       "    }\n",
       "\n",
       "    .dataframe tbody tr th {\n",
       "        vertical-align: top;\n",
       "    }\n",
       "\n",
       "    .dataframe thead th {\n",
       "        text-align: right;\n",
       "    }\n",
       "</style>\n",
       "<table border=\"1\" class=\"dataframe\">\n",
       "  <thead>\n",
       "    <tr style=\"text-align: right;\">\n",
       "      <th></th>\n",
       "      <th>Unnamed: 0</th>\n",
       "      <th>Unnamed: 0.1</th>\n",
       "      <th>Unnamed: 0.1.1</th>\n",
       "      <th>review</th>\n",
       "      <th>label</th>\n",
       "    </tr>\n",
       "  </thead>\n",
       "  <tbody>\n",
       "    <tr>\n",
       "      <th>0</th>\n",
       "      <td>0</td>\n",
       "      <td>0</td>\n",
       "      <td>0</td>\n",
       "      <td>bromwel high cartoon comedi ran program teache...</td>\n",
       "      <td>positive</td>\n",
       "    </tr>\n",
       "    <tr>\n",
       "      <th>1</th>\n",
       "      <td>1</td>\n",
       "      <td>1</td>\n",
       "      <td>1</td>\n",
       "      <td>homeless houseless georg carlin state issu pla...</td>\n",
       "      <td>positive</td>\n",
       "    </tr>\n",
       "    <tr>\n",
       "      <th>2</th>\n",
       "      <td>2</td>\n",
       "      <td>2</td>\n",
       "      <td>2</td>\n",
       "      <td>brilliant overact lesley ann warren best drama...</td>\n",
       "      <td>positive</td>\n",
       "    </tr>\n",
       "    <tr>\n",
       "      <th>3</th>\n",
       "      <td>3</td>\n",
       "      <td>3</td>\n",
       "      <td>3</td>\n",
       "      <td>easili underr inn brook cannon sure flaw reali...</td>\n",
       "      <td>positive</td>\n",
       "    </tr>\n",
       "    <tr>\n",
       "      <th>4</th>\n",
       "      <td>4</td>\n",
       "      <td>4</td>\n",
       "      <td>4</td>\n",
       "      <td>typic mel brook less slapstick follow lesli an...</td>\n",
       "      <td>positive</td>\n",
       "    </tr>\n",
       "  </tbody>\n",
       "</table>\n",
       "</div>"
      ],
      "text/plain": [
       "   Unnamed: 0  Unnamed: 0.1  Unnamed: 0.1.1  \\\n",
       "0           0             0               0   \n",
       "1           1             1               1   \n",
       "2           2             2               2   \n",
       "3           3             3               3   \n",
       "4           4             4               4   \n",
       "\n",
       "                                              review     label  \n",
       "0  bromwel high cartoon comedi ran program teache...  positive  \n",
       "1  homeless houseless georg carlin state issu pla...  positive  \n",
       "2  brilliant overact lesley ann warren best drama...  positive  \n",
       "3  easili underr inn brook cannon sure flaw reali...  positive  \n",
       "4  typic mel brook less slapstick follow lesli an...  positive  "
      ]
     },
     "execution_count": 212,
     "metadata": {},
     "output_type": "execute_result"
    }
   ],
   "source": [
    "# After Stemming\n",
    "\n",
    "train_df.head()"
   ]
  },
  {
   "cell_type": "code",
   "execution_count": 213,
   "metadata": {},
   "outputs": [],
   "source": [
    "from nltk.stem import WordNetLemmatizer\n",
    "lemmatizer = WordNetLemmatizer()\n",
    "\n",
    "train_df['review'] = train_df['review'].str.split()\n",
    "train_df['review'] = train_df['review'].apply(lambda x: ' '.join([lemmatizer.lemmatize(word) for word in x])) "
   ]
  },
  {
   "cell_type": "code",
   "execution_count": 214,
   "metadata": {},
   "outputs": [
    {
     "data": {
      "text/html": [
       "<div>\n",
       "<style scoped>\n",
       "    .dataframe tbody tr th:only-of-type {\n",
       "        vertical-align: middle;\n",
       "    }\n",
       "\n",
       "    .dataframe tbody tr th {\n",
       "        vertical-align: top;\n",
       "    }\n",
       "\n",
       "    .dataframe thead th {\n",
       "        text-align: right;\n",
       "    }\n",
       "</style>\n",
       "<table border=\"1\" class=\"dataframe\">\n",
       "  <thead>\n",
       "    <tr style=\"text-align: right;\">\n",
       "      <th></th>\n",
       "      <th>Unnamed: 0</th>\n",
       "      <th>Unnamed: 0.1</th>\n",
       "      <th>Unnamed: 0.1.1</th>\n",
       "      <th>review</th>\n",
       "      <th>label</th>\n",
       "    </tr>\n",
       "  </thead>\n",
       "  <tbody>\n",
       "    <tr>\n",
       "      <th>0</th>\n",
       "      <td>0</td>\n",
       "      <td>0</td>\n",
       "      <td>0</td>\n",
       "      <td>bromwel high cartoon comedi ran program teache...</td>\n",
       "      <td>positive</td>\n",
       "    </tr>\n",
       "    <tr>\n",
       "      <th>1</th>\n",
       "      <td>1</td>\n",
       "      <td>1</td>\n",
       "      <td>1</td>\n",
       "      <td>homeless houseless georg carlin state issu pla...</td>\n",
       "      <td>positive</td>\n",
       "    </tr>\n",
       "    <tr>\n",
       "      <th>2</th>\n",
       "      <td>2</td>\n",
       "      <td>2</td>\n",
       "      <td>2</td>\n",
       "      <td>brilliant overact lesley ann warren best drama...</td>\n",
       "      <td>positive</td>\n",
       "    </tr>\n",
       "    <tr>\n",
       "      <th>3</th>\n",
       "      <td>3</td>\n",
       "      <td>3</td>\n",
       "      <td>3</td>\n",
       "      <td>easili underr inn brook cannon sure flaw reali...</td>\n",
       "      <td>positive</td>\n",
       "    </tr>\n",
       "    <tr>\n",
       "      <th>4</th>\n",
       "      <td>4</td>\n",
       "      <td>4</td>\n",
       "      <td>4</td>\n",
       "      <td>typic mel brook le slapstick follow lesli ann ...</td>\n",
       "      <td>positive</td>\n",
       "    </tr>\n",
       "  </tbody>\n",
       "</table>\n",
       "</div>"
      ],
      "text/plain": [
       "   Unnamed: 0  Unnamed: 0.1  Unnamed: 0.1.1  \\\n",
       "0           0             0               0   \n",
       "1           1             1               1   \n",
       "2           2             2               2   \n",
       "3           3             3               3   \n",
       "4           4             4               4   \n",
       "\n",
       "                                              review     label  \n",
       "0  bromwel high cartoon comedi ran program teache...  positive  \n",
       "1  homeless houseless georg carlin state issu pla...  positive  \n",
       "2  brilliant overact lesley ann warren best drama...  positive  \n",
       "3  easili underr inn brook cannon sure flaw reali...  positive  \n",
       "4  typic mel brook le slapstick follow lesli ann ...  positive  "
      ]
     },
     "execution_count": 214,
     "metadata": {},
     "output_type": "execute_result"
    }
   ],
   "source": [
    "# After Lemmatizing\n",
    "\n",
    "train_df.head()"
   ]
  },
  {
   "cell_type": "code",
   "execution_count": 215,
   "metadata": {},
   "outputs": [],
   "source": [
    "train_df.to_csv('Clean_Train_Data.csv')"
   ]
  },
  {
   "cell_type": "code",
   "execution_count": 216,
   "metadata": {},
   "outputs": [],
   "source": [
    "# Applying Stemming and Lemmatization on Test Data\n",
    "\n",
    "test_df = pd.read_csv(\"C:/Users/Gaurav/Desktop/Digital Vidya/Capstone Project 1 Natural Language Processing/Test_Data_After_Removing_MeaninglessWords.csv\", encoding='ISO-8859-1', engine='c')\n",
    "\n",
    "# Stemming\n",
    "\n",
    "test_df['review'] = test_df['review'].str.split()\n",
    "test_df['review'] = test_df['review'].apply(lambda x: ' '.join([ps.stem(word) for word in x])) "
   ]
  },
  {
   "cell_type": "code",
   "execution_count": 217,
   "metadata": {},
   "outputs": [
    {
     "data": {
      "text/html": [
       "<div>\n",
       "<style scoped>\n",
       "    .dataframe tbody tr th:only-of-type {\n",
       "        vertical-align: middle;\n",
       "    }\n",
       "\n",
       "    .dataframe tbody tr th {\n",
       "        vertical-align: top;\n",
       "    }\n",
       "\n",
       "    .dataframe thead th {\n",
       "        text-align: right;\n",
       "    }\n",
       "</style>\n",
       "<table border=\"1\" class=\"dataframe\">\n",
       "  <thead>\n",
       "    <tr style=\"text-align: right;\">\n",
       "      <th></th>\n",
       "      <th>Unnamed: 0</th>\n",
       "      <th>Unnamed: 0.1</th>\n",
       "      <th>Unnamed: 0.1.1</th>\n",
       "      <th>review</th>\n",
       "      <th>label</th>\n",
       "    </tr>\n",
       "  </thead>\n",
       "  <tbody>\n",
       "    <tr>\n",
       "      <th>0</th>\n",
       "      <td>0</td>\n",
       "      <td>0</td>\n",
       "      <td>0</td>\n",
       "      <td>night coax friend mine ill admit reluct knew a...</td>\n",
       "      <td>positive</td>\n",
       "    </tr>\n",
       "    <tr>\n",
       "      <th>1</th>\n",
       "      <td>1</td>\n",
       "      <td>1</td>\n",
       "      <td>1</td>\n",
       "      <td>actor turn bill paxton follow promis debut got...</td>\n",
       "      <td>positive</td>\n",
       "    </tr>\n",
       "    <tr>\n",
       "      <th>2</th>\n",
       "      <td>2</td>\n",
       "      <td>2</td>\n",
       "      <td>2</td>\n",
       "      <td>recreat golfer knowledg sport histori pleas di...</td>\n",
       "      <td>positive</td>\n",
       "    </tr>\n",
       "    <tr>\n",
       "      <th>3</th>\n",
       "      <td>3</td>\n",
       "      <td>3</td>\n",
       "      <td>3</td>\n",
       "      <td>sneak preview delight cinematographi unusu cre...</td>\n",
       "      <td>positive</td>\n",
       "    </tr>\n",
       "    <tr>\n",
       "      <th>4</th>\n",
       "      <td>4</td>\n",
       "      <td>4</td>\n",
       "      <td>4</td>\n",
       "      <td>bill paxton true 1913 golf open extraordinari ...</td>\n",
       "      <td>positive</td>\n",
       "    </tr>\n",
       "  </tbody>\n",
       "</table>\n",
       "</div>"
      ],
      "text/plain": [
       "   Unnamed: 0  Unnamed: 0.1  Unnamed: 0.1.1  \\\n",
       "0           0             0               0   \n",
       "1           1             1               1   \n",
       "2           2             2               2   \n",
       "3           3             3               3   \n",
       "4           4             4               4   \n",
       "\n",
       "                                              review     label  \n",
       "0  night coax friend mine ill admit reluct knew a...  positive  \n",
       "1  actor turn bill paxton follow promis debut got...  positive  \n",
       "2  recreat golfer knowledg sport histori pleas di...  positive  \n",
       "3  sneak preview delight cinematographi unusu cre...  positive  \n",
       "4  bill paxton true 1913 golf open extraordinari ...  positive  "
      ]
     },
     "execution_count": 217,
     "metadata": {},
     "output_type": "execute_result"
    }
   ],
   "source": [
    "# After Stemming\n",
    "\n",
    "test_df.head()"
   ]
  },
  {
   "cell_type": "code",
   "execution_count": 218,
   "metadata": {},
   "outputs": [],
   "source": [
    "# Lemmatizing\n",
    "\n",
    "test_df['review'] = test_df['review'].str.split()\n",
    "test_df['review'] = test_df['review'].apply(lambda x: ' '.join([lemmatizer.lemmatize(word) for word in x])) "
   ]
  },
  {
   "cell_type": "code",
   "execution_count": 219,
   "metadata": {},
   "outputs": [
    {
     "data": {
      "text/html": [
       "<div>\n",
       "<style scoped>\n",
       "    .dataframe tbody tr th:only-of-type {\n",
       "        vertical-align: middle;\n",
       "    }\n",
       "\n",
       "    .dataframe tbody tr th {\n",
       "        vertical-align: top;\n",
       "    }\n",
       "\n",
       "    .dataframe thead th {\n",
       "        text-align: right;\n",
       "    }\n",
       "</style>\n",
       "<table border=\"1\" class=\"dataframe\">\n",
       "  <thead>\n",
       "    <tr style=\"text-align: right;\">\n",
       "      <th></th>\n",
       "      <th>Unnamed: 0</th>\n",
       "      <th>Unnamed: 0.1</th>\n",
       "      <th>Unnamed: 0.1.1</th>\n",
       "      <th>review</th>\n",
       "      <th>label</th>\n",
       "    </tr>\n",
       "  </thead>\n",
       "  <tbody>\n",
       "    <tr>\n",
       "      <th>0</th>\n",
       "      <td>0</td>\n",
       "      <td>0</td>\n",
       "      <td>0</td>\n",
       "      <td>night coax friend mine ill admit reluct knew a...</td>\n",
       "      <td>positive</td>\n",
       "    </tr>\n",
       "    <tr>\n",
       "      <th>1</th>\n",
       "      <td>1</td>\n",
       "      <td>1</td>\n",
       "      <td>1</td>\n",
       "      <td>actor turn bill paxton follow promis debut got...</td>\n",
       "      <td>positive</td>\n",
       "    </tr>\n",
       "    <tr>\n",
       "      <th>2</th>\n",
       "      <td>2</td>\n",
       "      <td>2</td>\n",
       "      <td>2</td>\n",
       "      <td>recreat golfer knowledg sport histori plea dis...</td>\n",
       "      <td>positive</td>\n",
       "    </tr>\n",
       "    <tr>\n",
       "      <th>3</th>\n",
       "      <td>3</td>\n",
       "      <td>3</td>\n",
       "      <td>3</td>\n",
       "      <td>sneak preview delight cinematographi unusu cre...</td>\n",
       "      <td>positive</td>\n",
       "    </tr>\n",
       "    <tr>\n",
       "      <th>4</th>\n",
       "      <td>4</td>\n",
       "      <td>4</td>\n",
       "      <td>4</td>\n",
       "      <td>bill paxton true 1913 golf open extraordinari ...</td>\n",
       "      <td>positive</td>\n",
       "    </tr>\n",
       "  </tbody>\n",
       "</table>\n",
       "</div>"
      ],
      "text/plain": [
       "   Unnamed: 0  Unnamed: 0.1  Unnamed: 0.1.1  \\\n",
       "0           0             0               0   \n",
       "1           1             1               1   \n",
       "2           2             2               2   \n",
       "3           3             3               3   \n",
       "4           4             4               4   \n",
       "\n",
       "                                              review     label  \n",
       "0  night coax friend mine ill admit reluct knew a...  positive  \n",
       "1  actor turn bill paxton follow promis debut got...  positive  \n",
       "2  recreat golfer knowledg sport histori plea dis...  positive  \n",
       "3  sneak preview delight cinematographi unusu cre...  positive  \n",
       "4  bill paxton true 1913 golf open extraordinari ...  positive  "
      ]
     },
     "execution_count": 219,
     "metadata": {},
     "output_type": "execute_result"
    }
   ],
   "source": [
    "# After Lemmatizing\n",
    "\n",
    "test_df.head()"
   ]
  },
  {
   "cell_type": "code",
   "execution_count": 220,
   "metadata": {},
   "outputs": [],
   "source": [
    "test_df.to_csv('Clean_Test_Data.csv')"
   ]
  },
  {
   "cell_type": "markdown",
   "metadata": {},
   "source": [
    "## Phase 2 Exploration"
   ]
  },
  {
   "cell_type": "markdown",
   "metadata": {},
   "source": [
    "## Finding Most Common  and Least common words"
   ]
  },
  {
   "cell_type": "code",
   "execution_count": 12,
   "metadata": {},
   "outputs": [],
   "source": [
    "import pandas as pd\n",
    "clean_train_df = pd.read_csv(\"C:/Users/Gaurav/Desktop/Digital Vidya/Capstone Project 1 Natural Language Processing/Clean_Train_Data.csv\", encoding='ISO-8859-1', engine='c')"
   ]
  },
  {
   "cell_type": "code",
   "execution_count": 15,
   "metadata": {},
   "outputs": [
    {
     "data": {
      "text/plain": [
       "[('like', 10163),\n",
       " ('good', 7592),\n",
       " ('great', 6401),\n",
       " ('love', 6016),\n",
       " ('realli', 5462)]"
      ]
     },
     "execution_count": 15,
     "metadata": {},
     "output_type": "execute_result"
    }
   ],
   "source": [
    "from collections import Counter\n",
    "\n",
    "# Finding Most Common Words Positive Words / Highest frequency words\n",
    "\n",
    "Counter(\" \".join(clean_train_df['review'][clean_train_df.label == 'positive']).split()).most_common(5)   "
   ]
  },
  {
   "cell_type": "markdown",
   "metadata": {},
   "source": []
  },
  {
   "cell_type": "code",
   "execution_count": 14,
   "metadata": {},
   "outputs": [
    {
     "data": {
      "text/plain": [
       "[('closetinventory', 1),\n",
       " ('rosyhu', 1),\n",
       " ('plottool', 1),\n",
       " ('fluffand', 1),\n",
       " ('swallowthough', 1)]"
      ]
     },
     "execution_count": 14,
     "metadata": {},
     "output_type": "execute_result"
    }
   ],
   "source": [
    "#Finding Least commnon words / Lowest frequency words\n",
    "\n",
    "Counter(\" \".join(clean_train_df['review'][clean_train_df.label == 'positive']).split()).most_common()[-5:] "
   ]
  },
  {
   "cell_type": "code",
   "execution_count": 20,
   "metadata": {},
   "outputs": [
    {
     "data": {
      "text/plain": [
       "[('like', 12021),\n",
       " ('good', 7331),\n",
       " ('bad', 7247),\n",
       " ('realli', 6231),\n",
       " ('act', 5183)]"
      ]
     },
     "execution_count": 20,
     "metadata": {},
     "output_type": "execute_result"
    }
   ],
   "source": [
    "# Finding Most Common Words Negative Words / Highest frequency words\n",
    "\n",
    "Counter(\" \".join(clean_train_df['review'][clean_train_df.label == 'negative']).split()).most_common(5) "
   ]
  },
  {
   "cell_type": "code",
   "execution_count": 17,
   "metadata": {},
   "outputs": [
    {
     "data": {
      "text/plain": [
       "[('irreversiblestyl', 1),\n",
       " ('americancanadian', 1),\n",
       " ('lasciviousdecad', 1),\n",
       " ('whelk', 1),\n",
       " ('18000', 1)]"
      ]
     },
     "execution_count": 17,
     "metadata": {},
     "output_type": "execute_result"
    }
   ],
   "source": [
    "#Finding Least commnon words / Lowest frequency words\n",
    "\n",
    "Counter(\" \".join(clean_train_df['review'][clean_train_df.label == 'negative']).split()).most_common()[-5:]"
   ]
  },
  {
   "cell_type": "markdown",
   "metadata": {},
   "source": [
    "##  Extra Credits"
   ]
  },
  {
   "cell_type": "markdown",
   "metadata": {},
   "source": [
    "### 1. Read unlabeled data from respective folder (unsup) and store in unsup_df"
   ]
  },
  {
   "cell_type": "code",
   "execution_count": 1,
   "metadata": {},
   "outputs": [],
   "source": [
    "# Reading Unsupervised Data\n",
    "\n",
    "import os\n",
    "import pandas as pd\n",
    "import numpy as np\n",
    "\n",
    "path='C:\\\\Users\\\\Gaurav\\\\Desktop\\\\Digital Vidya\\\\Capstone Project 1 Natural Language Processing\\\\aclImdb\\\\train\\\\unsup\\\\'\n",
    "\n",
    "unsup_data = []\n",
    "files = [path+'/'+f for f in os.listdir(path) if os.path.isfile(path+'/'+f)]\n",
    "\n",
    "for f in files:\n",
    "    with open (f, \"r\",encoding=\"iso-8859-1\") as myfile:\n",
    "        unsup_data.append(myfile.read())"
   ]
  },
  {
   "cell_type": "code",
   "execution_count": 2,
   "metadata": {},
   "outputs": [
    {
     "data": {
      "text/html": [
       "<div>\n",
       "<style scoped>\n",
       "    .dataframe tbody tr th:only-of-type {\n",
       "        vertical-align: middle;\n",
       "    }\n",
       "\n",
       "    .dataframe tbody tr th {\n",
       "        vertical-align: top;\n",
       "    }\n",
       "\n",
       "    .dataframe thead th {\n",
       "        text-align: right;\n",
       "    }\n",
       "</style>\n",
       "<table border=\"1\" class=\"dataframe\">\n",
       "  <thead>\n",
       "    <tr style=\"text-align: right;\">\n",
       "      <th></th>\n",
       "      <th>review</th>\n",
       "    </tr>\n",
       "  </thead>\n",
       "  <tbody>\n",
       "    <tr>\n",
       "      <th>0</th>\n",
       "      <td>I admit, the great majority of films released ...</td>\n",
       "    </tr>\n",
       "    <tr>\n",
       "      <th>1</th>\n",
       "      <td>Take a low budget, inexperienced actors doubli...</td>\n",
       "    </tr>\n",
       "    <tr>\n",
       "      <th>2</th>\n",
       "      <td>Everybody has seen 'Back To The Future,' right...</td>\n",
       "    </tr>\n",
       "    <tr>\n",
       "      <th>3</th>\n",
       "      <td>Doris Day was an icon of beauty in singing and...</td>\n",
       "    </tr>\n",
       "    <tr>\n",
       "      <th>4</th>\n",
       "      <td>After a series of silly, fun-loving movies, 19...</td>\n",
       "    </tr>\n",
       "  </tbody>\n",
       "</table>\n",
       "</div>"
      ],
      "text/plain": [
       "                                              review\n",
       "0  I admit, the great majority of films released ...\n",
       "1  Take a low budget, inexperienced actors doubli...\n",
       "2  Everybody has seen 'Back To The Future,' right...\n",
       "3  Doris Day was an icon of beauty in singing and...\n",
       "4  After a series of silly, fun-loving movies, 19..."
      ]
     },
     "execution_count": 2,
     "metadata": {},
     "output_type": "execute_result"
    }
   ],
   "source": [
    "# UNSUPERVISED DataFrame\n",
    "unsup_df = pd.DataFrame(unsup_data, columns=['review'])\n",
    "unsup_df.head()\n"
   ]
  },
  {
   "cell_type": "code",
   "execution_count": 3,
   "metadata": {},
   "outputs": [],
   "source": [
    "import pandas as pd\n",
    "import nltk\n",
    "from nltk.corpus import stopwords\n",
    "from nltk.tokenize import word_tokenize\n",
    "import string \n",
    "import re   # regular expressions library\n",
    "\n",
    "tags = re.compile('<.*?>')\n",
    "tags\n",
    "\n",
    "\n",
    "unsup_df['review'] = unsup_df['review'].str.replace(tags, ' ') # Removing HTML tags\n",
    "\n",
    " punctuation = string.punctuation\n",
    "punctuation\n",
    "\n",
    "unsup_df['review']  = unsup_df['review'].str.replace('[{}]'.format(string.punctuation), '')# Removing punctuation\n",
    "unsup_df['review'] = unsup_df['review'].str.lower()\n",
    "\n",
    "\n",
    "\n",
    "#Removing Stopwords\n",
    "clean_review =[]\n",
    " \n",
    "Stopwords = stopwords.words('english')\n",
    " \n",
    "for f in unsup_df['review']:\n",
    "    word_tokens = word_tokenize(f)\n",
    "    clean = [w for w in word_tokens if w not in Stopwords]\n",
    "    f_new = \" \".join(clean)\n",
    "    clean_review\n",
    "    .append(f_new)\n",
    " \n",
    "\n",
    "unsup_df['review'] = clean_review"
   ]
  },
  {
   "cell_type": "code",
   "execution_count": 4,
   "metadata": {},
   "outputs": [],
   "source": [
    "# Removing Meaningless Words from Unsup Data\n",
    "from nltk.tokenize import word_tokenize\n",
    "Meaningless_Words = ['movie', 'film', 'movies', 'films', 'cinema', 'one', 'get', 'would', 'made', 'make', 'dont', 'time', 'story', 'characters', 'character', 'see', 'life', 'show', 'think', 'scene', 'people', 'also', 'even', 'first', 'many', 'well', 'way', 'play','thing','two','real', 'still','seem', 'little', 'end','work','watch', 'always', 'know', 'take','find', 'though', 'plot', 'say', 'much', 'seen', 'never', 'could', 'much', 'years', 'part', 'go', 'makes', 'scenes', 'ever', 'back', 'come', 'performance', 'may', 'fact', 'us', 'something', 'give', 'didnt','look', 'saw','shows','another','cast', 'every', 'watching', 'going', 'actually','things', 'man', 'want', 'title', 'entire', 'budget', 'school', 'become', 'top', 'case', 'person', 'face', 'piece','camera', 'keep', 'video', 'gives', 'let', 'start', 'remember', 'came', 'perhaps', 'rest','use', 'along', 'production', 'line', 'tell', 'next', 'home', 'try', 'need', 'short', 'else','used', 'takes', 'said', 'later', 'someone', 'goes', 'trying', 'course', 'comees', 'yet', 'turn','wont', 'wants', 'went', 'couldnt', 'save', 'group', 'alone', 'wouldnt', 'anyway', 'moment', 'took','role', 'etc', 'says', 'hand', 'late', 'directed' , 'car', 'soon', 'town', 'sometimes', 'able', 'called', 'talking', 'cut', 'taking', 'finds', 'started', 'today', 'across', 'whose', 'taken', 'lets', 'looked', 'including', 'word', 'words', 'arent', 'events', 'room', 'im', 'doesnt', 'director', 'thats', 'nothing', 'since', 'hes', 'anything', 'rather', 'away', 'last','anyone', 'played', 'looks', 'wasnt', 'put', 'comes', 'became', 'youve', 'move', 'follow', 'learn','whos', 'form', 'means', 'comments', 'using', 'tells', 'call', 'kid', 'police', 'theyre', 'youll', 'days','1', '2', '3', '10','example', 'id', 'becomes', 'father', 'mother', 'completely', 'seeing', 'three','job', 'place', 'hair', '15', 'store', 'werent', 'company', 'state', '8', 'science', 'former', 'water','island', 'list', 'sees','telling', 'box', 'air', 'meant', 'parts', 'gave', 'seemed', 'based', 'mr','several']\n",
    "clean_review =[]\n",
    " \n",
    "for f in unsup_df['review']:\n",
    "    word_tokens = word_tokenize(f)\n",
    "    clean = [w for w in word_tokens if w not in Meaningless_Words]\n",
    "    f_new = \" \".join(clean)\n",
    "    clean_review.append(f_new)\n",
    " \n",
    "unsup_df['review'] = clean_review"
   ]
  },
  {
   "cell_type": "code",
   "execution_count": 5,
   "metadata": {},
   "outputs": [],
   "source": [
    "# Applying Stemming and Lemmatization on Unsup Data\n",
    "\n",
    "from nltk.stem import PorterStemmer\n",
    "ps = PorterStemmer()\n",
    "\n",
    "unsup_df['review'] = unsup_df['review'].str.split()\n",
    "unsup_df['review'] = unsup_df['review'].apply(lambda x: ' '.join([ps.stem(word) for word in x])) "
   ]
  },
  {
   "cell_type": "code",
   "execution_count": 6,
   "metadata": {},
   "outputs": [],
   "source": [
    "from nltk.stem import WordNetLemmatizer\n",
    "lemmatizer = WordNetLemmatizer()\n",
    "\n",
    "unsup_df['review'] = unsup_df['review'].str.split()\n",
    "unsup_df['review'] = unsup_df['review'].apply(lambda x: ' '.join([lemmatizer.lemmatize(word) for word in x])) "
   ]
  },
  {
   "cell_type": "code",
   "execution_count": 7,
   "metadata": {},
   "outputs": [
    {
     "data": {
      "text/html": [
       "<div>\n",
       "<style scoped>\n",
       "    .dataframe tbody tr th:only-of-type {\n",
       "        vertical-align: middle;\n",
       "    }\n",
       "\n",
       "    .dataframe tbody tr th {\n",
       "        vertical-align: top;\n",
       "    }\n",
       "\n",
       "    .dataframe thead th {\n",
       "        text-align: right;\n",
       "    }\n",
       "</style>\n",
       "<table border=\"1\" class=\"dataframe\">\n",
       "  <thead>\n",
       "    <tr style=\"text-align: right;\">\n",
       "      <th></th>\n",
       "      <th>review</th>\n",
       "    </tr>\n",
       "  </thead>\n",
       "  <tbody>\n",
       "    <tr>\n",
       "      <th>0</th>\n",
       "      <td>admit great major releas 1933 dozen major sile...</td>\n",
       "    </tr>\n",
       "    <tr>\n",
       "      <th>1</th>\n",
       "      <td>low inexperienc actor doubl staffâ limit faci...</td>\n",
       "    </tr>\n",
       "    <tr>\n",
       "      <th>2</th>\n",
       "      <td>everybodi futur right whether like timetravel ...</td>\n",
       "    </tr>\n",
       "    <tr>\n",
       "      <th>3</th>\n",
       "      <td>dori day icon beauti sing act warm voic geniu ...</td>\n",
       "    </tr>\n",
       "    <tr>\n",
       "      <th>4</th>\n",
       "      <td>seri silli funlov 1955 big year dori day year ...</td>\n",
       "    </tr>\n",
       "  </tbody>\n",
       "</table>\n",
       "</div>"
      ],
      "text/plain": [
       "                                              review\n",
       "0  admit great major releas 1933 dozen major sile...\n",
       "1  low inexperienc actor doubl staffâ limit faci...\n",
       "2  everybodi futur right whether like timetravel ...\n",
       "3  dori day icon beauti sing act warm voic geniu ...\n",
       "4  seri silli funlov 1955 big year dori day year ..."
      ]
     },
     "execution_count": 7,
     "metadata": {},
     "output_type": "execute_result"
    }
   ],
   "source": [
    "unsup_df.head()"
   ]
  },
  {
   "cell_type": "code",
   "execution_count": 9,
   "metadata": {},
   "outputs": [],
   "source": [
    "unsup_df.to_csv('Clean_Unsup_Data.csv')"
   ]
  },
  {
   "cell_type": "markdown",
   "metadata": {},
   "source": [
    "## 2. Create a cluster to separate positive and negative words using k-means algorithm"
   ]
  },
  {
   "cell_type": "code",
   "execution_count": 65,
   "metadata": {},
   "outputs": [
    {
     "data": {
      "text/plain": [
       "CountVectorizer(analyzer='word', binary=False, decode_error='strict',\n",
       "        dtype=<class 'numpy.int64'>, encoding='utf-8', input='content',\n",
       "        lowercase=True, max_df=1.0, max_features=300, min_df=1,\n",
       "        ngram_range=(1, 1), preprocessor=None, stop_words=None,\n",
       "        strip_accents=None, token_pattern='(?u)\\\\b\\\\w\\\\w+\\\\b',\n",
       "        tokenizer=None, vocabulary=None)"
      ]
     },
     "execution_count": 65,
     "metadata": {},
     "output_type": "execute_result"
    }
   ],
   "source": [
    "from sklearn.feature_extraction.text import CountVectorizer\n",
    "\n",
    "# create an instance\n",
    "count_vect = CountVectorizer(max_features=300)\n",
    "# fit the vectorizer with data\n",
    "count_vect.fit(unsup_df.review)"
   ]
  },
  {
   "cell_type": "code",
   "execution_count": 66,
   "metadata": {},
   "outputs": [],
   "source": [
    "X = count_vect.transform(unsup_df.review).toarray()"
   ]
  },
  {
   "cell_type": "code",
   "execution_count": 92,
   "metadata": {},
   "outputs": [
    {
     "data": {
      "text/plain": [
       "KMeans(algorithm='auto', copy_x=True, init='k-means++', max_iter=300,\n",
       "    n_clusters=2, n_init=10, n_jobs=1, precompute_distances='auto',\n",
       "    random_state=0, tol=0.0001, verbose=0)"
      ]
     },
     "execution_count": 92,
     "metadata": {},
     "output_type": "execute_result"
    }
   ],
   "source": [
    "from sklearn.cluster import KMeans\n",
    "kmeans = KMeans(n_clusters=2, random_state=0)\n",
    "kmeans.fit(X)"
   ]
  },
  {
   "cell_type": "code",
   "execution_count": 71,
   "metadata": {},
   "outputs": [
    {
     "data": {
      "text/plain": [
       "array([0, 0, 0, ..., 0, 0, 0])"
      ]
     },
     "execution_count": 71,
     "metadata": {},
     "output_type": "execute_result"
    }
   ],
   "source": [
    "kmeans.labels_"
   ]
  },
  {
   "cell_type": "code",
   "execution_count": 93,
   "metadata": {},
   "outputs": [
    {
     "name": "stdout",
     "output_type": "stream",
     "text": [
      "Top terms per cluster:\n",
      "Cluster 0:\n",
      " like\n",
      " good\n",
      " realli\n",
      " bad\n",
      " love\n",
      " great\n",
      " act\n",
      " actor\n",
      " feel\n",
      " best\n",
      " guy\n",
      " get\n",
      " better\n",
      " lot\n",
      " woman\n",
      "Cluster 1:\n",
      " like\n",
      " good\n",
      " realli\n",
      " great\n",
      " love\n",
      " act\n",
      " bad\n",
      " actor\n",
      " best\n",
      " better\n",
      " interest\n",
      " funni\n",
      " enjoy\n",
      " feel\n",
      " lot\n"
     ]
    }
   ],
   "source": [
    "print(\"Top terms per cluster:\")\n",
    "true_k=2\n",
    "order_centroids = kmeans.cluster_centers_.argsort()[:, ::-1]\n",
    "terms = count_vect.get_feature_names()\n",
    "for i in range(true_k):\n",
    "    print(\"Cluster %d:\" % i),\n",
    "    for ind in order_centroids[i, :15]:\n",
    "        print(' %s' % terms[ind]),\n",
    "    \n",
    "        \n",
    "            \n",
    "        "
   ]
  },
  {
   "cell_type": "code",
   "execution_count": 94,
   "metadata": {},
   "outputs": [
    {
     "data": {
      "text/plain": [
       "Text(0.5,1,'KMeans clusters')"
      ]
     },
     "execution_count": 94,
     "metadata": {},
     "output_type": "execute_result"
    },
    {
     "data": {
      "image/png": "[encoded data removed]",
      "text/plain": [
       "<matplotlib.figure.Figure at 0x16ca1e7e908>"
      ]
     },
     "metadata": {},
     "output_type": "display_data"
    }
   ],
   "source": [
    "import matplotlib.pyplot as plt\n",
    "%matplotlib inline\n",
    "\n",
    "colors = ['red', 'blue']\n",
    "\n",
    "pred_colors = [colors[label] for label in kmeans.labels_]\n",
    "\n",
    "plt.scatter(X[:, 2], X[:, 3], c=pred_colors)\n",
    "plt.title('KMeans clusters')"
   ]
  },
  {
   "cell_type": "markdown",
   "metadata": {},
   "source": [
    "# Phase 3 Visualization "
   ]
  },
  {
   "cell_type": "code",
   "execution_count": 87,
   "metadata": {},
   "outputs": [],
   "source": [
    "import pandas as pd\n",
    "clean_train_df = pd.read_csv(\"C:/Users/Gaurav/Desktop/Digital Vidya/Capstone Project 1 Natural Language Processing/Clean_Train_Data.csv\", encoding='ISO-8859-1', engine='c')"
   ]
  },
  {
   "cell_type": "code",
   "execution_count": 88,
   "metadata": {},
   "outputs": [],
   "source": [
    "from wordcloud import WordCloud\n",
    "Postive_Train_list = clean_train_df[clean_train_df[\"label\"] == \"positive\"][\"review\"].unique().tolist()"
   ]
  },
  {
   "cell_type": "code",
   "execution_count": 89,
   "metadata": {},
   "outputs": [],
   "source": [
    "train_positive = \" \".join(Postive_Train_list)"
   ]
  },
  {
   "cell_type": "code",
   "execution_count": 90,
   "metadata": {},
   "outputs": [],
   "source": [
    "import matplotlib as plt\n",
    "positive_wordcloud = WordCloud().generate(train_positive)    # Creating wordcloud\n",
    "\n",
    "# Word Cloud of Positive Words                             "
   ]
  },
  {
   "cell_type": "code",
   "execution_count": 92,
   "metadata": {},
   "outputs": [
    {
     "data": {
      "image/png": "[encoded data removed]",
      "text/plain": [
       "<matplotlib.figure.Figure at 0x1a003ec0390>"
      ]
     },
     "metadata": {},
     "output_type": "display_data"
    }
   ],
   "source": [
    "import matplotlib.pyplot as plt\n",
    "plt.figure(figsize=(12,12))\n",
    "plt.imshow(positive_wordcloud)\n",
    "plt.show()"
   ]
  },
  {
   "cell_type": "code",
   "execution_count": 93,
   "metadata": {},
   "outputs": [],
   "source": [
    "Negative_Train_list = clean_train_df[clean_train_df[\"label\"] == \"negative\"][\"review\"].unique().tolist()\n",
    "train_negative = \" \".join(Negative_Train_list)"
   ]
  },
  {
   "cell_type": "code",
   "execution_count": 94,
   "metadata": {},
   "outputs": [],
   "source": [
    "import matplotlib.pyplot as plt\n",
    "negative_wordcloud = WordCloud().generate(train_negative)    # Creating wordcloud\n",
    "\n",
    "# Word Cloud of Negative Words    "
   ]
  },
  {
   "cell_type": "code",
   "execution_count": 95,
   "metadata": {},
   "outputs": [
    {
     "data": {
      "image/png": "[encoded data removed]",
      "text/plain": [
       "<matplotlib.figure.Figure at 0x1a003f93630>"
      ]
     },
     "metadata": {},
     "output_type": "display_data"
    }
   ],
   "source": [
    "plt.figure(figsize=(12,12))\n",
    "plt.imshow(negative_wordcloud)\n",
    "plt.show()"
   ]
  },
  {
   "cell_type": "code",
   "execution_count": 86,
   "metadata": {},
   "outputs": [],
   "source": [
    "# Histogram\n",
    "import matplotlib.pyplot as plt\n",
    "from sklearn.feature_extraction.text import CountVectorizer\n",
    "\n",
    "count_vect = CountVectorizer(max_features=300)"
   ]
  },
  {
   "cell_type": "code",
   "execution_count": 84,
   "metadata": {},
   "outputs": [
    {
     "data": {
      "image/png": "[encoded data removed]",
      "text/plain": [
       "<matplotlib.figure.Figure at 0x1a002479198>"
      ]
     },
     "metadata": {},
     "output_type": "display_data"
    }
   ],
   "source": [
    "cv_pos = count_vect.fit_transform(clean_train_df['review'][clean_train_df.label == 'positive'])\n",
    "\n",
    "pos_data = cv_pos.sum(axis=0).tolist()\n",
    "plt.hist(pos_data, normed=True, bins=25)\n",
    "plt.ylabel('Number of Instances')\n",
    "plt.show()\n",
    "#Histogram(Negative Words)"
   ]
  },
  {
   "cell_type": "code",
   "execution_count": 85,
   "metadata": {},
   "outputs": [
    {
     "data": {
      "image/png": "[encoded data removed]",
      "text/plain": [
       "<matplotlib.figure.Figure at 0x1a000847358>"
      ]
     },
     "metadata": {},
     "output_type": "display_data"
    }
   ],
   "source": [
    "cv_pos = count_vect.fit_transform(clean_train_df['review'][clean_train_df.label == 'negative'])\n",
    "\n",
    "pos_data = cv_pos.sum(axis=0).tolist()\n",
    "plt.hist(pos_data, normed=True, bins=25)\n",
    "plt.ylabel('Number of Instances')\n",
    "plt.show()\n",
    "# Histogram(Negative Words)"
   ]
  },
  {
   "cell_type": "markdown",
   "metadata": {},
   "source": [
    "# Phase 4 Hypothesis testing  and Feature Selection"
   ]
  },
  {
   "cell_type": "markdown",
   "metadata": {},
   "source": [
    "## 1. Create Hypothesis involving relationships between dependent and independent variables using parametric/non-parametric tests for various machine learning algorithms such as k-means clustering,  classification algorithms."
   ]
  },
  {
   "cell_type": "markdown",
   "metadata": {},
   "source": [
    "## Parametric Tests"
   ]
  },
  {
   "cell_type": "code",
   "execution_count": 65,
   "metadata": {},
   "outputs": [],
   "source": [
    "import pandas as pd\n",
    "clean_train_df = pd.read_csv(\"C:/Users/Gaurav/Desktop/Digital Vidya/Capstone Project 1 Natural Language Processing/Clean_Train_Data.csv\", encoding='ISO-8859-1', engine='c')\n",
    "clean_test_df = pd.read_csv(\"C:/Users/Gaurav/Desktop/Digital Vidya/Capstone Project 1 Natural Language Processing/Clean_Test_Data.csv\", encoding='ISO-8859-1', engine='c')\n"
   ]
  },
  {
   "cell_type": "markdown",
   "metadata": {},
   "source": [
    "### Concatnating Train and Test Data"
   ]
  },
  {
   "cell_type": "code",
   "execution_count": 66,
   "metadata": {},
   "outputs": [],
   "source": [
    "clean_moviereview_df = pd.concat([clean_train_df, clean_test_df])"
   ]
  },
  {
   "cell_type": "code",
   "execution_count": 70,
   "metadata": {},
   "outputs": [
    {
     "data": {
      "text/plain": [
       "CountVectorizer(analyzer='word', binary=False, decode_error='strict',\n",
       "        dtype=<class 'numpy.int64'>, encoding='utf-8', input='content',\n",
       "        lowercase=True, max_df=1.0, max_features=700, min_df=1,\n",
       "        ngram_range=(1, 1), preprocessor=None, stop_words=None,\n",
       "        strip_accents=None, token_pattern='(?u)\\\\b\\\\w\\\\w+\\\\b',\n",
       "        tokenizer=None, vocabulary=None)"
      ]
     },
     "execution_count": 70,
     "metadata": {},
     "output_type": "execute_result"
    }
   ],
   "source": [
    "from sklearn.feature_extraction.text import CountVectorizer\n",
    "\n",
    "count_vect = CountVectorizer(max_features=700)\n",
    "count_vect.fit(clean_moviereview_df.review)"
   ]
  },
  {
   "cell_type": "code",
   "execution_count": 71,
   "metadata": {},
   "outputs": [],
   "source": [
    "X = count_vect.transform(clean_moviereview_df.review).toarray()"
   ]
  },
  {
   "cell_type": "code",
   "execution_count": 72,
   "metadata": {},
   "outputs": [],
   "source": [
    "from sklearn.preprocessing import LabelEncoder\n",
    "le = LabelEncoder()\n",
    "\n",
    "y = le.fit_transform(clean_moviereview_df.label)"
   ]
  },
  {
   "cell_type": "markdown",
   "metadata": {},
   "source": [
    "## Classification Algorithms"
   ]
  },
  {
   "cell_type": "markdown",
   "metadata": {},
   "source": [
    "### 1. Logistic Regression"
   ]
  },
  {
   "cell_type": "code",
   "execution_count": 72,
   "metadata": {},
   "outputs": [
    {
     "name": "stderr",
     "output_type": "stream",
     "text": [
      "C:\\Users\\hp\\Anaconda3\\lib\\site-packages\\sklearn\\utils\\validation.py:475: DataConversionWarning: Data with input dtype int64 was converted to float64 by StandardScaler.\n",
      "  warnings.warn(msg, DataConversionWarning)\n"
     ]
    },
    {
     "name": "stdout",
     "output_type": "stream",
     "text": [
      "The accuracy is  0.84748\n"
     ]
    }
   ],
   "source": [
    "from sklearn.model_selection import train_test_split\n",
    "from sklearn.preprocessing import StandardScaler\n",
    "from sklearn.linear_model import LogisticRegression\n",
    "\n",
    "# Using 80/20 rule to split data\n",
    "X_train, X_test, y_train, y_test = train_test_split(X, y, test_size = 0.5, random_state = 0)\n",
    "\n",
    "sc = StandardScaler()\n",
    "X_train = sc.fit_transform(X_train)\n",
    "X_test = sc.transform(X_test) \n",
    "\n",
    "\n",
    "\n",
    "classifier = LogisticRegression(random_state = 0)\n",
    "classifier.fit(X_train, y_train)\n",
    "y_pred = classifier.predict(X_test)\n",
    "\n",
    "\n",
    "from sklearn.metrics import accuracy_score\n",
    "accuracy = accuracy_score(y_test, y_pred)\n",
    "print('The accuracy is ', accuracy)"
   ]
  },
  {
   "cell_type": "markdown",
   "metadata": {},
   "source": [
    "## 2. Naive Bayes Classifier "
   ]
  },
  {
   "cell_type": "markdown",
   "metadata": {},
   "source": [
    "### Applying MultiNomial NB"
   ]
  },
  {
   "cell_type": "code",
   "execution_count": 73,
   "metadata": {},
   "outputs": [],
   "source": [
    "from sklearn.naive_bayes import MultinomialNB\n",
    "clf = MultinomialNB()"
   ]
  },
  {
   "cell_type": "code",
   "execution_count": 74,
   "metadata": {},
   "outputs": [
    {
     "name": "stdout",
     "output_type": "stream",
     "text": [
      "The Accuracy is 0.82716\n"
     ]
    }
   ],
   "source": [
    "from sklearn.model_selection import train_test_split\n",
    "from sklearn.metrics import accuracy_score\n",
    "\n",
    "X_train, X_test, y_train, y_test = train_test_split(X, y, test_size=0.5, random_state=0)\n",
    "\n",
    "clf.fit(X_train, y_train)\n",
    "predictions = clf.predict(X_test)\n",
    "prediction = clf.predict(X_train)\n",
    "\n",
    "accuracy = accuracy_score(y_test, predictions)\n",
    "\n",
    "print('The Accuracy is', accuracy)"
   ]
  },
  {
   "cell_type": "markdown",
   "metadata": {},
   "source": [
    "## 3. Decision Tree"
   ]
  },
  {
   "cell_type": "code",
   "execution_count": 75,
   "metadata": {},
   "outputs": [
    {
     "name": "stdout",
     "output_type": "stream",
     "text": [
      "The Accuracy is 0.71336\n"
     ]
    }
   ],
   "source": [
    "from sklearn.tree import DecisionTreeClassifier\n",
    "from sklearn.metrics import accuracy_score\n",
    "\n",
    "clf = DecisionTreeClassifier(criterion='gini')\n",
    "\n",
    "clf.fit(X_train, y_train)\n",
    "\n",
    "predictions = clf.predict(X_test)\n",
    "\n",
    "\n",
    "accuracy = accuracy_score(y_test, predictions)\n",
    "print('The Accuracy is', accuracy)"
   ]
  },
  {
   "cell_type": "markdown",
   "metadata": {},
   "source": [
    "## 4. Random Forest\n"
   ]
  },
  {
   "cell_type": "code",
   "execution_count": 76,
   "metadata": {},
   "outputs": [
    {
     "name": "stdout",
     "output_type": "stream",
     "text": [
      "The Accuracy is 0.74916\n"
     ]
    }
   ],
   "source": [
    "from sklearn.ensemble import RandomForestClassifier\n",
    "clf = RandomForestClassifier(n_estimators=5)\n",
    "\n",
    "clf.fit(X_train, y_train)\n",
    "\n",
    "predictions = clf.predict(X_test)\n",
    "\n",
    "accuracy = accuracy_score(y_test, predictions)\n",
    "print('The Accuracy is', accuracy)"
   ]
  },
  {
   "cell_type": "markdown",
   "metadata": {},
   "source": [
    "## 5. Support Vector Machine (SVM)"
   ]
  },
  {
   "cell_type": "code",
   "execution_count": null,
   "metadata": {},
   "outputs": [],
   "source": [
    "#from sklearn.svm import SVC\n",
    "#clf = SVC()\n",
    "\n",
    "#clf.fit(X_train, y_train)\n",
    "\n",
    "#predictions = clf.predict(X_test)\n",
    "#accuracy = accuracy_score(y_test, predictions)\n",
    "#print('The Accuracy is', accuracy)\n"
   ]
  },
  {
   "cell_type": "code",
   "execution_count": null,
   "metadata": {},
   "outputs": [],
   "source": [
    "#### I tried to excute above SVM code, the system got hunged. "
   ]
  },
  {
   "cell_type": "markdown",
   "metadata": {},
   "source": [
    "### Result - From above accuracy scores, it has been observed that MultiNomial NB and Logistic Regression have almost same accuracies and have higher accuracies than Decision Tree and Random Forest"
   ]
  },
  {
   "cell_type": "markdown",
   "metadata": {},
   "source": [
    "## Non-Parametric tests"
   ]
  },
  {
   "cell_type": "markdown",
   "metadata": {},
   "source": [
    "##  K means Clustering"
   ]
  },
  {
   "cell_type": "markdown",
   "metadata": {},
   "source": [
    "##### Applying max_features here since the system was getting an memory error everytime I tried to pass the entire data."
   ]
  },
  {
   "cell_type": "code",
   "execution_count": 15,
   "metadata": {},
   "outputs": [
    {
     "data": {
      "text/plain": [
       "CountVectorizer(analyzer='word', binary=False, decode_error='strict',\n",
       "        dtype=<class 'numpy.int64'>, encoding='utf-8', input='content',\n",
       "        lowercase=True, max_df=1.0, max_features=400, min_df=1,\n",
       "        ngram_range=(1, 1), preprocessor=None, stop_words=None,\n",
       "        strip_accents=None, token_pattern='(?u)\\\\b\\\\w\\\\w+\\\\b',\n",
       "        tokenizer=None, vocabulary=None)"
      ]
     },
     "execution_count": 15,
     "metadata": {},
     "output_type": "execute_result"
    }
   ],
   "source": [
    "from sklearn.feature_extraction.text import CountVectorizer\n",
    "\n",
    "count_vect = CountVectorizer(max_features=400)\n",
    "\n",
    "count_vect.fit(unsup_df.review)"
   ]
  },
  {
   "cell_type": "code",
   "execution_count": 16,
   "metadata": {},
   "outputs": [],
   "source": [
    "X = count_vect.transform(unsup_df.review).toarray()"
   ]
  },
  {
   "cell_type": "code",
   "execution_count": 17,
   "metadata": {},
   "outputs": [
    {
     "data": {
      "text/plain": [
       "KMeans(algorithm='auto', copy_x=True, init='k-means++', max_iter=300,\n",
       "    n_clusters=2, n_init=10, n_jobs=1, precompute_distances='auto',\n",
       "    random_state=0, tol=0.0001, verbose=0)"
      ]
     },
     "execution_count": 17,
     "metadata": {},
     "output_type": "execute_result"
    }
   ],
   "source": [
    "from sklearn.cluster import KMeans\n",
    "kmeans = KMeans(n_clusters=2, random_state=0)\n",
    "kmeans.fit(X)"
   ]
  },
  {
   "cell_type": "code",
   "execution_count": 18,
   "metadata": {},
   "outputs": [
    {
     "data": {
      "text/plain": [
       "array([1, 1, 0, ..., 0, 1, 1])"
      ]
     },
     "execution_count": 18,
     "metadata": {},
     "output_type": "execute_result"
    }
   ],
   "source": [
    "kmeans.labels_"
   ]
  },
  {
   "cell_type": "code",
   "execution_count": 19,
   "metadata": {},
   "outputs": [],
   "source": [
    "import matplotlib.pyplot as plt\n",
    "%matplotlib inline\n",
    "\n",
    "colors = ['red', 'blue']\n",
    "\n",
    "pred_colors = [colors[label] for label in kmeans.labels_]"
   ]
  },
  {
   "cell_type": "code",
   "execution_count": 20,
   "metadata": {},
   "outputs": [
    {
     "data": {
      "text/plain": [
       "Text(0.5,1,'KMeans clusters')"
      ]
     },
     "execution_count": 20,
     "metadata": {},
     "output_type": "execute_result"
    },
    {
     "data": {
      "image/png": "[encoded data removed]",
      "text/plain": [
       "<matplotlib.figure.Figure at 0x16ca1e7e4a8>"
      ]
     },
     "metadata": {},
     "output_type": "display_data"
    }
   ],
   "source": [
    "plt.scatter(X[:, 2], X[:, 3], c=pred_colors)\n",
    "plt.title('KMeans clusters')"
   ]
  },
  {
   "cell_type": "markdown",
   "metadata": {},
   "source": [
    "# Phase 5 Model Building"
   ]
  },
  {
   "cell_type": "markdown",
   "metadata": {},
   "source": [
    "## 1. Supervised Learning"
   ]
  },
  {
   "cell_type": "code",
   "execution_count": 73,
   "metadata": {},
   "outputs": [],
   "source": [
    "# Applying MultiNomial NB\n",
    "\n",
    "from sklearn.naive_bayes import MultinomialNB\n",
    "clf = MultinomialNB()"
   ]
  },
  {
   "cell_type": "code",
   "execution_count": 74,
   "metadata": {},
   "outputs": [
    {
     "name": "stdout",
     "output_type": "stream",
     "text": [
      "The Accuracy is 0.8207\n"
     ]
    }
   ],
   "source": [
    "from sklearn.model_selection import train_test_split\n",
    "from sklearn.metrics import accuracy_score\n",
    "\n",
    "X_train, X_test, y_train, y_test = train_test_split(X, y, test_size=0.2, random_state=0) # Applying 80/20 Rule\n",
    "\n",
    "clf.fit(X_train, y_train)\n",
    "predictions = clf.predict(X_test)\n",
    "prediction = clf.predict(X_train)\n",
    "\n",
    "accuracy = accuracy_score(y_test, predictions)\n",
    "\n",
    "print('The Accuracy is', accuracy)"
   ]
  },
  {
   "cell_type": "code",
   "execution_count": 76,
   "metadata": {},
   "outputs": [],
   "source": [
    "test_data = clean_moviereview_df.head(10).review.tolist() + clean_moviereview_df.tail(10).review.tolist()\n",
    "actual_label = clean_moviereview_df.head(10).label.tolist() + clean_moviereview_df.tail(10).label.tolist()"
   ]
  },
  {
   "cell_type": "code",
   "execution_count": 77,
   "metadata": {},
   "outputs": [],
   "source": [
    "test_preds = clf.predict(count_vect.transform(test_data))"
   ]
  },
  {
   "cell_type": "code",
   "execution_count": 87,
   "metadata": {},
   "outputs": [
    {
     "name": "stdout",
     "output_type": "stream",
     "text": [
      "bromwel high cartoon comedi ran program teacher 35 teach profess lead believ bromwel high satir clos (positive) => 1\n",
      "homeless houseless georg carlin state issu plan help street consid human everyth vote matter homeles (positive) => 1\n",
      "brilliant overact lesley ann warren best dramat hobo ladi love cloth warehous second none corn class (positive) => 1\n",
      "easili underr inn brook cannon sure flaw realist view homeless unlik citizen kane realist view loung (positive) => 1\n",
      "typic mel brook le slapstick follow lesli ann warren fantast underr actress moment flesh bit probabl (positive) => 1\n",
      "isnt comed robin william quirkyinsan robin william recent thriller fame hybrid classic drama without (positive) => 1\n",
      "ye art success slow pace thriller unfold nice volum notic happen fine robin william sexual angl unne (positive) => 1\n",
      "critic acclaim psycholog thriller true gabriel robin william celebr writer latenight talk host capti (positive) => 1\n",
      "night listen 2006 12 robin william toni collett bobbi cannaval rori culkin joe morton sandra oh john (positive) => 1\n",
      "robin william god bless constantli shoot foot late dumb comedi done decad except death smoochi bomb  (positive) => 1\n",
      "read script onlin thought capot need trim ppv trim butcher like poor famili script truman dub shawn  (negative) => 0\n",
      "invit observ descent moral emot funk isnt likabl point make better cold blood book admir incident or (negative) => 0\n",
      "great hoffman deliv great suspend disbelief fidgeti boredom almost walk hoffman commit play affect l (negative) => 1\n",
      "dreari inert selfimport bore suddenli hang ventur botch philip seymour hoffman play truman capot nar (negative) => 1\n",
      "aw aw aw time hundr begin describ crappi biggest loser pictur fat coupl interest humili lose weight  (negative) => 0\n",
      "occasion kid garbag understand pathet contest pathet fat whore digniti minut fame fortun appear nati (negative) => 0\n",
      "anymor pretti realiti tv make fool whatev reason fat cant sing cook worth damn hollywood run origin  (negative) => 0\n",
      "basic genr thriller intercut uncomfort menageatroi fellow tri lot lie order bring manner small twist (negative) => 1\n",
      "four intrigu firstli star carli pope popular fame pleasur secdonli featur brilliant new zealand actr (negative) => 0\n",
      "david bryce nearbi except written inform almost everyth feel darl lili massiv music peculiar blown p (negative) => 1\n"
     ]
    }
   ],
   "source": [
    "# Actual Data vs Predicted Data\n",
    "i = 0\n",
    "for sms, label in zip(test_data, actual_label):\n",
    "    print(str(test_data[i][:100]) +\" (\"+ str(actual_label[i]) +\") => \"+ str(test_preds[i]) )\n",
    "    i += 1"
   ]
  },
  {
   "cell_type": "markdown",
   "metadata": {},
   "source": [
    "## 2. Unsupervised Learning"
   ]
  },
  {
   "cell_type": "code",
   "execution_count": 22,
   "metadata": {},
   "outputs": [
    {
     "data": {
      "text/plain": [
       "CountVectorizer(analyzer='word', binary=False, decode_error='strict',\n",
       "        dtype=<class 'numpy.int64'>, encoding='utf-8', input='content',\n",
       "        lowercase=True, max_df=1.0, max_features=400, min_df=1,\n",
       "        ngram_range=(1, 1), preprocessor=None, stop_words=None,\n",
       "        strip_accents=None, token_pattern='(?u)\\\\b\\\\w\\\\w+\\\\b',\n",
       "        tokenizer=None, vocabulary=None)"
      ]
     },
     "execution_count": 22,
     "metadata": {},
     "output_type": "execute_result"
    }
   ],
   "source": [
    "from sklearn.feature_extraction.text import CountVectorizer\n",
    "\n",
    "# create an instance\n",
    "count_vect = CountVectorizer(max_features=400)\n",
    "# fit the vectorizer with data\n",
    "count_vect.fit(unsup_df.review)"
   ]
  },
  {
   "cell_type": "code",
   "execution_count": 23,
   "metadata": {},
   "outputs": [],
   "source": [
    "X = count_vect.transform(unsup_df.review).toarray()"
   ]
  },
  {
   "cell_type": "markdown",
   "metadata": {},
   "source": [
    "### Applying K-means algorithm"
   ]
  },
  {
   "cell_type": "code",
   "execution_count": 24,
   "metadata": {},
   "outputs": [
    {
     "data": {
      "text/plain": [
       "KMeans(algorithm='auto', copy_x=True, init='k-means++', max_iter=300,\n",
       "    n_clusters=2, n_init=10, n_jobs=1, precompute_distances='auto',\n",
       "    random_state=0, tol=0.0001, verbose=0)"
      ]
     },
     "execution_count": 24,
     "metadata": {},
     "output_type": "execute_result"
    }
   ],
   "source": [
    "from sklearn.cluster import KMeans\n",
    "kmeans = KMeans(n_clusters=2, random_state=0)\n",
    "kmeans.fit(X)"
   ]
  },
  {
   "cell_type": "code",
   "execution_count": 25,
   "metadata": {},
   "outputs": [
    {
     "data": {
      "text/plain": [
       "array([1, 1, 0, ..., 0, 1, 1])"
      ]
     },
     "execution_count": 25,
     "metadata": {},
     "output_type": "execute_result"
    }
   ],
   "source": [
    "kmeans.labels_"
   ]
  },
  {
   "cell_type": "code",
   "execution_count": 26,
   "metadata": {},
   "outputs": [],
   "source": [
    "labels = ['positive', 'negative']\n",
    "\n",
    "pred_labels = [labels[label] for label in kmeans.labels_]"
   ]
  },
  {
   "cell_type": "code",
   "execution_count": 31,
   "metadata": {},
   "outputs": [
    {
     "name": "stdout",
     "output_type": "stream",
     "text": [
      "Top words per cluster:-\n",
      "Cluster 0:\n",
      " like\n",
      " good\n",
      " realli\n",
      " bad\n",
      " love\n",
      " great\n",
      " act\n",
      " actor\n",
      " feel\n",
      " best\n",
      " get\n",
      " guy\n",
      " better\n",
      " lot\n",
      " woman\n",
      " new\n",
      " kill\n",
      " point\n",
      " live\n",
      " interest\n",
      " girl\n",
      " world\n",
      " there\n",
      " set\n",
      " end\n",
      " happen\n",
      " around\n",
      " seem\n",
      " action\n",
      " horror\n",
      "Cluster 1:\n",
      " like\n",
      " good\n",
      " realli\n",
      " great\n",
      " bad\n",
      " love\n",
      " act\n",
      " actor\n",
      " best\n",
      " better\n",
      " interest\n",
      " funni\n",
      " enjoy\n",
      " lot\n",
      " feel\n",
      " woman\n",
      " live\n",
      " get\n",
      " star\n",
      " comedi\n",
      " new\n",
      " guy\n",
      " music\n",
      " believ\n",
      " play\n",
      " thought\n",
      " old\n",
      " end\n",
      " wonder\n",
      " cant\n"
     ]
    }
   ],
   "source": [
    "print(\"Top words per cluster:-\")\n",
    "\n",
    "k_value = 2\n",
    "\n",
    "order_centroids = kmeans.cluster_centers_.argsort()[:, ::-1]\n",
    "\n",
    "words = count_vect.get_feature_names()\n",
    "\n",
    "for i in range(k_value):\n",
    "    print(\"Cluster %d:\" % i),\n",
    "    for ind in order_centroids[i, :30]:\n",
    "        print(' %s' % words[ind]),\n",
    "    print "
   ]
  },
  {
   "cell_type": "markdown",
   "metadata": {},
   "source": [
    "## Extra Credits"
   ]
  },
  {
   "cell_type": "markdown",
   "metadata": {},
   "source": [
    "### 1. Supervised Learning: Compare the performance of different machine learning models, at least 2"
   ]
  },
  {
   "cell_type": "code",
   "execution_count": 88,
   "metadata": {},
   "outputs": [],
   "source": [
    "# Applying MultiNomial NB\n",
    "from sklearn.naive_bayes import MultinomialNB\n",
    "clf = MultinomialNB()"
   ]
  },
  {
   "cell_type": "code",
   "execution_count": 89,
   "metadata": {},
   "outputs": [
    {
     "name": "stdout",
     "output_type": "stream",
     "text": [
      "The Accuracy is 0.8207\n"
     ]
    }
   ],
   "source": [
    "from sklearn.model_selection import train_test_split\n",
    "from sklearn.metrics import accuracy_score\n",
    "\n",
    "X_train, X_test, y_train, y_test = train_test_split(X, y, test_size=0.2, random_state=0) # Applying 80/20 Rule\n",
    "\n",
    "clf.fit(X_train, y_train)\n",
    "predictions = clf.predict(X_test)\n",
    "prediction = clf.predict(X_train)\n",
    "\n",
    "accuracy = accuracy_score(y_test, predictions)\n",
    "\n",
    "print('The Accuracy is', accuracy)"
   ]
  },
  {
   "cell_type": "code",
   "execution_count": 91,
   "metadata": {},
   "outputs": [
    {
     "name": "stdout",
     "output_type": "stream",
     "text": [
      "The Accuracy is 0.7128\n"
     ]
    }
   ],
   "source": [
    "# Decision Tree\n",
    "from sklearn.tree import DecisionTreeClassifier\n",
    "from sklearn.metrics import accuracy_score\n",
    "\n",
    "clf = DecisionTreeClassifier(criterion='gini')\n",
    "\n",
    "clf.fit(X_train, y_train)\n",
    "\n",
    "predictions = clf.predict(X_test)\n",
    "\n",
    "\n",
    "accuracy = accuracy_score(y_test, predictions)\n",
    "print('The Accuracy is', accuracy)"
   ]
  },
  {
   "cell_type": "markdown",
   "metadata": {},
   "source": [
    "### Obeserving above results, the accuracy of Multinomial Naive Bayes is higher than that of Decisin Tree."
   ]
  },
  {
   "cell_type": "markdown",
   "metadata": {},
   "source": [
    "### 3. Divide the data into more 4 clusters to enable finding more classes"
   ]
  },
  {
   "cell_type": "code",
   "execution_count": 36,
   "metadata": {},
   "outputs": [
    {
     "data": {
      "text/plain": [
       "KMeans(algorithm='auto', copy_x=True, init='k-means++', max_iter=300,\n",
       "    n_clusters=6, n_init=10, n_jobs=1, precompute_distances='auto',\n",
       "    random_state=0, tol=0.0001, verbose=0)"
      ]
     },
     "execution_count": 36,
     "metadata": {},
     "output_type": "execute_result"
    }
   ],
   "source": [
    "\n",
    "kmeans = KMeans(n_clusters=6, random_state=0)\n",
    "kmeans.fit(X)"
   ]
  },
  {
   "cell_type": "code",
   "execution_count": 40,
   "metadata": {},
   "outputs": [
    {
     "name": "stdout",
     "output_type": "stream",
     "text": [
      "Top words per cluster:-\n",
      "Cluster 0:\n",
      " like\n",
      " great\n",
      " good\n",
      " realli\n",
      " act\n",
      " best\n",
      " actor\n",
      " bad\n",
      " better\n",
      " love\n",
      " interest\n",
      " funni\n",
      " enjoy\n",
      " lot\n",
      " feel\n",
      " comedi\n",
      " live\n",
      " wonder\n",
      " star\n",
      " woman\n",
      " get\n",
      " new\n",
      " believ\n",
      " thought\n",
      " origin\n",
      " music\n",
      " end\n",
      " play\n",
      " old\n",
      " action\n",
      " minut\n",
      " cant\n",
      " set\n",
      " ive\n",
      " fan\n",
      " must\n",
      " got\n",
      " world\n",
      " laugh\n",
      " young\n",
      "Cluster 1:\n",
      " like\n",
      " realli\n",
      " good\n",
      " great\n",
      " woman\n",
      " best\n",
      " live\n",
      " new\n",
      " world\n",
      " actor\n",
      " act\n",
      " get\n",
      " young\n",
      " interest\n",
      " feel\n",
      " set\n",
      " love\n",
      " point\n",
      " kill\n",
      " girl\n",
      " howev\n",
      " play\n",
      " around\n",
      " star\n",
      " seem\n",
      " better\n",
      " end\n",
      " final\n",
      " war\n",
      " old\n",
      " quit\n",
      " happen\n",
      " famili\n",
      " action\n",
      " effect\n",
      " lot\n",
      " believ\n",
      " long\n",
      " seri\n",
      " enough\n",
      "Cluster 2:\n",
      " like\n",
      " good\n",
      " realli\n",
      " bad\n",
      " great\n",
      " act\n",
      " love\n",
      " guy\n",
      " get\n",
      " feel\n",
      " lot\n",
      " best\n",
      " kill\n",
      " actor\n",
      " there\n",
      " better\n",
      " horror\n",
      " point\n",
      " happen\n",
      " around\n",
      " origin\n",
      " girl\n",
      " seem\n",
      " new\n",
      " live\n",
      " set\n",
      " end\n",
      " interest\n",
      " pretti\n",
      " cant\n",
      " isnt\n",
      " reason\n",
      " woman\n",
      " play\n",
      " bit\n",
      " quit\n",
      " action\n",
      " right\n",
      " old\n",
      " enough\n",
      "Cluster 3:\n",
      " love\n",
      " like\n",
      " great\n",
      " good\n",
      " realli\n",
      " best\n",
      " woman\n",
      " beauti\n",
      " feel\n",
      " live\n",
      " act\n",
      " girl\n",
      " young\n",
      " music\n",
      " fall\n",
      " actor\n",
      " wonder\n",
      " new\n",
      " interest\n",
      " enjoy\n",
      " get\n",
      " famili\n",
      " play\n",
      " comedi\n",
      " old\n",
      " better\n",
      " funni\n",
      " differ\n",
      " world\n",
      " friend\n",
      " lot\n",
      " end\n",
      " child\n",
      " believ\n",
      " thought\n",
      " star\n",
      " bad\n",
      " set\n",
      " guy\n",
      " time\n",
      "Cluster 4:\n",
      " good\n",
      " bad\n",
      " realli\n",
      " like\n",
      " act\n",
      " great\n",
      " actor\n",
      " guy\n",
      " better\n",
      " pretti\n",
      " lot\n",
      " best\n",
      " funni\n",
      " get\n",
      " script\n",
      " interest\n",
      " action\n",
      " effect\n",
      " horror\n",
      " isnt\n",
      " quit\n",
      " love\n",
      " got\n",
      " cant\n",
      " enjoy\n",
      " thought\n",
      " worst\n",
      " feel\n",
      " point\n",
      " kill\n",
      " end\n",
      " minut\n",
      " enough\n",
      " music\n",
      " origin\n",
      " star\n",
      " fan\n",
      " laugh\n",
      " believ\n",
      " bit\n",
      "Cluster 5:\n",
      " like\n",
      " realli\n",
      " good\n",
      " act\n",
      " great\n",
      " bad\n",
      " actor\n",
      " feel\n",
      " better\n",
      " love\n",
      " lot\n",
      " guy\n",
      " funni\n",
      " best\n",
      " enjoy\n",
      " thought\n",
      " get\n",
      " interest\n",
      " cant\n",
      " girl\n",
      " old\n",
      " got\n",
      " seem\n",
      " star\n",
      " minut\n",
      " happen\n",
      " believ\n",
      " live\n",
      " comedi\n",
      " woman\n",
      " end\n",
      " ive\n",
      " pretti\n",
      " action\n",
      " point\n",
      " right\n",
      " quit\n",
      " music\n",
      " new\n",
      " big\n"
     ]
    }
   ],
   "source": [
    "print(\"Top words per cluster:-\")\n",
    "\n",
    "k_value = 6\n",
    "\n",
    "order_centroids = kmeans.cluster_centers_.argsort()[:, ::-1]\n",
    "\n",
    "words = count_vect.get_feature_names()\n",
    "\n",
    "for i in range(k_value):\n",
    "    print(\"Cluster %d:\" % i),\n",
    "    for ind in order_centroids[i, :40]:\n",
    "        print(' %s' % words[ind]),\n",
    "    print "
   ]
  },
  {
   "cell_type": "markdown",
   "metadata": {},
   "source": [
    "### 4. Active Learning: Cluster the training dataset and try and find the genre. "
   ]
  },
  {
   "cell_type": "code",
   "execution_count": 42,
   "metadata": {},
   "outputs": [],
   "source": [
    "import pandas as pd\n",
    "clean_train_df = pd.read_csv(\"C:/Users/Gaurav/Desktop/Digital Vidya/Capstone Project 1 Natural Language Processing/Clean_Train_Data.csv\", encoding='ISO-8859-1', engine='c')"
   ]
  },
  {
   "cell_type": "code",
   "execution_count": 57,
   "metadata": {},
   "outputs": [
    {
     "data": {
      "text/plain": [
       "CountVectorizer(analyzer='word', binary=False, decode_error='strict',\n",
       "        dtype=<class 'numpy.int64'>, encoding='utf-8', input='content',\n",
       "        lowercase=True, max_df=1.0, max_features=300, min_df=1,\n",
       "        ngram_range=(1, 1), preprocessor=None, stop_words=None,\n",
       "        strip_accents=None, token_pattern='(?u)\\\\b\\\\w\\\\w+\\\\b',\n",
       "        tokenizer=None, vocabulary=None)"
      ]
     },
     "execution_count": 57,
     "metadata": {},
     "output_type": "execute_result"
    }
   ],
   "source": [
    "from sklearn.feature_extraction.text import CountVectorizer\n",
    "\n",
    "count_vect = CountVectorizer(max_features=300)\n",
    "\n",
    "count_vect.fit(clean_train_df.review)"
   ]
  },
  {
   "cell_type": "code",
   "execution_count": 58,
   "metadata": {},
   "outputs": [],
   "source": [
    "X = count_vect.transform(clean_train_df.review).toarray()"
   ]
  },
  {
   "cell_type": "code",
   "execution_count": 62,
   "metadata": {},
   "outputs": [
    {
     "data": {
      "text/plain": [
       "KMeans(algorithm='auto', copy_x=True, init='k-means++', max_iter=300,\n",
       "    n_clusters=6, n_init=10, n_jobs=1, precompute_distances='auto',\n",
       "    random_state=0, tol=0.0001, verbose=0)"
      ]
     },
     "execution_count": 62,
     "metadata": {},
     "output_type": "execute_result"
    }
   ],
   "source": [
    "from sklearn.cluster import KMeans\n",
    "kmeans = KMeans(n_clusters=6, random_state=0)\n",
    "kmeans.fit(X)"
   ]
  },
  {
   "cell_type": "code",
   "execution_count": 64,
   "metadata": {},
   "outputs": [
    {
     "name": "stdout",
     "output_type": "stream",
     "text": [
      "Top words per cluster:-\n",
      "Cluster 0:\n",
      " bad\n",
      " like\n",
      " act\n",
      " good\n",
      " realli\n",
      " guy\n",
      " actor\n",
      " worst\n",
      " better\n",
      " funni\n",
      " get\n",
      " script\n",
      " effect\n",
      " minut\n",
      " cant\n",
      " ive\n",
      " pretti\n",
      " great\n",
      " lot\n",
      " got\n",
      " horror\n",
      " kill\n",
      " reason\n",
      " least\n",
      " isnt\n",
      " aw\n",
      " wast\n",
      " action\n",
      " terribl\n",
      " best\n",
      " stupid\n",
      " there\n",
      " believ\n",
      " feel\n",
      " love\n",
      " bore\n",
      " laugh\n",
      " money\n",
      " wors\n",
      " big\n",
      "Cluster 1:\n",
      " like\n",
      " great\n",
      " realli\n",
      " good\n",
      " act\n",
      " love\n",
      " best\n",
      " actor\n",
      " better\n",
      " bad\n",
      " interest\n",
      " enjoy\n",
      " funni\n",
      " feel\n",
      " wonder\n",
      " get\n",
      " lot\n",
      " star\n",
      " old\n",
      " believ\n",
      " comedi\n",
      " new\n",
      " origin\n",
      " live\n",
      " woman\n",
      " music\n",
      " cant\n",
      " end\n",
      " world\n",
      " thought\n",
      " ive\n",
      " set\n",
      " got\n",
      " minut\n",
      " play\n",
      " famili\n",
      " young\n",
      " fan\n",
      " quit\n",
      " time\n",
      "Cluster 2:\n",
      " good\n",
      " like\n",
      " realli\n",
      " great\n",
      " act\n",
      " actor\n",
      " bad\n",
      " love\n",
      " better\n",
      " pretti\n",
      " best\n",
      " lot\n",
      " enjoy\n",
      " interest\n",
      " funni\n",
      " feel\n",
      " get\n",
      " quit\n",
      " guy\n",
      " thought\n",
      " action\n",
      " end\n",
      " bit\n",
      " comedi\n",
      " expect\n",
      " horror\n",
      " howev\n",
      " music\n",
      " origin\n",
      " point\n",
      " time\n",
      " star\n",
      " got\n",
      " play\n",
      " big\n",
      " old\n",
      " enough\n",
      " effect\n",
      " script\n",
      " fun\n",
      "Cluster 3:\n",
      " like\n",
      " realli\n",
      " good\n",
      " bad\n",
      " great\n",
      " act\n",
      " feel\n",
      " love\n",
      " actor\n",
      " get\n",
      " guy\n",
      " better\n",
      " lot\n",
      " best\n",
      " woman\n",
      " point\n",
      " there\n",
      " new\n",
      " horror\n",
      " origin\n",
      " seem\n",
      " interest\n",
      " kill\n",
      " around\n",
      " music\n",
      " end\n",
      " isnt\n",
      " girl\n",
      " play\n",
      " live\n",
      " happen\n",
      " effect\n",
      " enough\n",
      " right\n",
      " old\n",
      " quit\n",
      " bit\n",
      " pretti\n",
      " world\n",
      " set\n",
      "Cluster 4:\n",
      " like\n",
      " realli\n",
      " good\n",
      " great\n",
      " act\n",
      " love\n",
      " actor\n",
      " bad\n",
      " lot\n",
      " better\n",
      " feel\n",
      " best\n",
      " enjoy\n",
      " interest\n",
      " point\n",
      " funni\n",
      " got\n",
      " cant\n",
      " guy\n",
      " live\n",
      " seem\n",
      " thought\n",
      " get\n",
      " music\n",
      " old\n",
      " around\n",
      " girl\n",
      " star\n",
      " kind\n",
      " happen\n",
      " end\n",
      " bit\n",
      " woman\n",
      " minut\n",
      " origin\n",
      " believ\n",
      " ive\n",
      " world\n",
      " play\n",
      " new\n",
      "Cluster 5:\n",
      " love\n",
      " like\n",
      " realli\n",
      " great\n",
      " good\n",
      " woman\n",
      " best\n",
      " act\n",
      " actor\n",
      " live\n",
      " young\n",
      " feel\n",
      " new\n",
      " get\n",
      " world\n",
      " famili\n",
      " set\n",
      " girl\n",
      " star\n",
      " music\n",
      " point\n",
      " kill\n",
      " beauti\n",
      " play\n",
      " interest\n",
      " old\n",
      " seem\n",
      " final\n",
      " better\n",
      " quit\n",
      " around\n",
      " origin\n",
      " seri\n",
      " howev\n",
      " lot\n",
      " friend\n",
      " begin\n",
      " end\n",
      " right\n",
      " help\n"
     ]
    }
   ],
   "source": [
    "print(\"Top words per cluster:-\")\n",
    "\n",
    "k_value = 6\n",
    "\n",
    "order_centroids = kmeans.cluster_centers_.argsort()[:, ::-1]\n",
    "\n",
    "words = count_vect.get_feature_names()\n",
    "\n",
    "for i in range(k_value):\n",
    "    print(\"Cluster %d:\" % i),\n",
    "    for ind in order_centroids[i, :40]:\n",
    "        print(' %s' % words[ind]),\n",
    "    "
   ]
  },
  {
   "cell_type": "markdown",
   "metadata": {},
   "source": [
    "## Clusters contain following genres:-\n",
    "\n",
    "### Cluster 0 -  Horror, Action , War\n",
    "\n",
    "### Cluster 1 -  Musical, Comedy\n",
    "\n",
    "### Cluster 2 - Comedy, Musical, Horror\n",
    "\n",
    "### Cluseter 3 - Horror, Musical\n",
    "\n",
    "### Cluster 4 - Musical\n",
    "\n",
    "### Cluster 5 - Musical, TV Series"
   ]
  }
 ],
 "metadata": {
  "kernelspec": {
   "display_name": "Python 3",
   "language": "python",
   "name": "python3"
  },
  "language_info": {
   "codemirror_mode": {
    "name": "ipython",
    "version": 3
   },
   "file_extension": ".py",
   "mimetype": "text/x-python",
   "name": "python",
   "nbconvert_exporter": "python",
   "pygments_lexer": "ipython3",
   "version": "3.6.4"
  }
 },
 "nbformat": 4,
 "nbformat_minor": 2
}
